{
  "nbformat": 4,
  "nbformat_minor": 0,
  "metadata": {
    "colab": {
      "provenance": [],
      "include_colab_link": true
    },
    "kernelspec": {
      "name": "python3",
      "display_name": "Python 3"
    },
    "language_info": {
      "name": "python"
    },
    "gpuClass": "standard"
  },
  "cells": [
    {
      "cell_type": "markdown",
      "metadata": {
        "id": "view-in-github",
        "colab_type": "text"
      },
      "source": [
        "<a href=\"https://colab.research.google.com/github/erinmcmullen/CS167-Notes/blob/main/Day10_Artificial_Neural_Networks.ipynb\" target=\"_parent\"><img src=\"https://colab.research.google.com/assets/colab-badge.svg\" alt=\"Open In Colab\"/></a>"
      ]
    },
    {
      "cell_type": "markdown",
      "source": [
        "# Day10 Artificial Neural Networks\n",
        "\n",
        "We're going to start off by using sklearn MLP to implement a multilayer perceptron, and then we're going to use a deep learning framework, Tensorflow with Keras to build a neural network.\n",
        "\n",
        "__Documentation__: \n",
        "- [`sklearn.neural_network.MLPClassifier()`](https://scikit-learn.org/stable/modules/generated/sklearn.neural_network.MLPClassifier.html#sklearn.neural_network.MLPClassifier)\n",
        "- [`sklearn.neural_network.MLPRegressor()`](https://scikit-learn.org/stable/modules/generated/sklearn.neural_network.MLPRegressor.html#sklearn.neural_network.MLPRegressor)"
      ],
      "metadata": {
        "id": "3AOXKHiAmVLd"
      }
    },
    {
      "cell_type": "markdown",
      "source": [
        "## Data Preparation\n",
        "- Mount Drive\n",
        "- Load in `irisData.csv`\n",
        "- use `train_test_split` to split data \n",
        "- normalize using `slkearn.preprocessing.StandardScaler`"
      ],
      "metadata": {
        "id": "WdrdO_Q8m-od"
      }
    },
    {
      "cell_type": "code",
      "execution_count": 2,
      "metadata": {
        "colab": {
          "base_uri": "https://localhost:8080/"
        },
        "id": "S4W-mCCqmFNl",
        "outputId": "fd8de41f-df12-4168-a628-f15d1f8676e8"
      },
      "outputs": [
        {
          "output_type": "stream",
          "name": "stdout",
          "text": [
            "Drive already mounted at /content/drive; to attempt to forcibly remount, call drive.mount(\"/content/drive\", force_remount=True).\n"
          ]
        }
      ],
      "source": [
        "from google.colab import drive\n",
        "import pandas\n",
        "drive.mount('/content/drive')"
      ]
    },
    {
      "cell_type": "code",
      "source": [
        "data = pandas.read_csv('/content/drive/MyDrive/Datasets/irisData.csv')\n",
        "data.head()"
      ],
      "metadata": {
        "colab": {
          "base_uri": "https://localhost:8080/",
          "height": 206
        },
        "id": "fVh_OIQ4mPd_",
        "outputId": "be1d8349-27f0-4a35-ba17-9524be87177d"
      },
      "execution_count": 3,
      "outputs": [
        {
          "output_type": "execute_result",
          "data": {
            "text/plain": [
              "   sepal length  sepal width  petal length  petal width      species\n",
              "0           5.1          3.5           1.4          0.2  Iris-setosa\n",
              "1           4.9          3.0           1.4          0.2  Iris-setosa\n",
              "2           4.7          3.2           1.3          0.2  Iris-setosa\n",
              "3           4.6          3.1           1.5          0.2  Iris-setosa\n",
              "4           5.0          3.6           1.4          0.2  Iris-setosa"
            ],
            "text/html": [
              "\n",
              "  <div id=\"df-3cc8a87d-f211-4109-924d-c4664bf32ebe\">\n",
              "    <div class=\"colab-df-container\">\n",
              "      <div>\n",
              "<style scoped>\n",
              "    .dataframe tbody tr th:only-of-type {\n",
              "        vertical-align: middle;\n",
              "    }\n",
              "\n",
              "    .dataframe tbody tr th {\n",
              "        vertical-align: top;\n",
              "    }\n",
              "\n",
              "    .dataframe thead th {\n",
              "        text-align: right;\n",
              "    }\n",
              "</style>\n",
              "<table border=\"1\" class=\"dataframe\">\n",
              "  <thead>\n",
              "    <tr style=\"text-align: right;\">\n",
              "      <th></th>\n",
              "      <th>sepal length</th>\n",
              "      <th>sepal width</th>\n",
              "      <th>petal length</th>\n",
              "      <th>petal width</th>\n",
              "      <th>species</th>\n",
              "    </tr>\n",
              "  </thead>\n",
              "  <tbody>\n",
              "    <tr>\n",
              "      <th>0</th>\n",
              "      <td>5.1</td>\n",
              "      <td>3.5</td>\n",
              "      <td>1.4</td>\n",
              "      <td>0.2</td>\n",
              "      <td>Iris-setosa</td>\n",
              "    </tr>\n",
              "    <tr>\n",
              "      <th>1</th>\n",
              "      <td>4.9</td>\n",
              "      <td>3.0</td>\n",
              "      <td>1.4</td>\n",
              "      <td>0.2</td>\n",
              "      <td>Iris-setosa</td>\n",
              "    </tr>\n",
              "    <tr>\n",
              "      <th>2</th>\n",
              "      <td>4.7</td>\n",
              "      <td>3.2</td>\n",
              "      <td>1.3</td>\n",
              "      <td>0.2</td>\n",
              "      <td>Iris-setosa</td>\n",
              "    </tr>\n",
              "    <tr>\n",
              "      <th>3</th>\n",
              "      <td>4.6</td>\n",
              "      <td>3.1</td>\n",
              "      <td>1.5</td>\n",
              "      <td>0.2</td>\n",
              "      <td>Iris-setosa</td>\n",
              "    </tr>\n",
              "    <tr>\n",
              "      <th>4</th>\n",
              "      <td>5.0</td>\n",
              "      <td>3.6</td>\n",
              "      <td>1.4</td>\n",
              "      <td>0.2</td>\n",
              "      <td>Iris-setosa</td>\n",
              "    </tr>\n",
              "  </tbody>\n",
              "</table>\n",
              "</div>\n",
              "      <button class=\"colab-df-convert\" onclick=\"convertToInteractive('df-3cc8a87d-f211-4109-924d-c4664bf32ebe')\"\n",
              "              title=\"Convert this dataframe to an interactive table.\"\n",
              "              style=\"display:none;\">\n",
              "        \n",
              "  <svg xmlns=\"http://www.w3.org/2000/svg\" height=\"24px\"viewBox=\"0 0 24 24\"\n",
              "       width=\"24px\">\n",
              "    <path d=\"M0 0h24v24H0V0z\" fill=\"none\"/>\n",
              "    <path d=\"M18.56 5.44l.94 2.06.94-2.06 2.06-.94-2.06-.94-.94-2.06-.94 2.06-2.06.94zm-11 1L8.5 8.5l.94-2.06 2.06-.94-2.06-.94L8.5 2.5l-.94 2.06-2.06.94zm10 10l.94 2.06.94-2.06 2.06-.94-2.06-.94-.94-2.06-.94 2.06-2.06.94z\"/><path d=\"M17.41 7.96l-1.37-1.37c-.4-.4-.92-.59-1.43-.59-.52 0-1.04.2-1.43.59L10.3 9.45l-7.72 7.72c-.78.78-.78 2.05 0 2.83L4 21.41c.39.39.9.59 1.41.59.51 0 1.02-.2 1.41-.59l7.78-7.78 2.81-2.81c.8-.78.8-2.07 0-2.86zM5.41 20L4 18.59l7.72-7.72 1.47 1.35L5.41 20z\"/>\n",
              "  </svg>\n",
              "      </button>\n",
              "      \n",
              "  <style>\n",
              "    .colab-df-container {\n",
              "      display:flex;\n",
              "      flex-wrap:wrap;\n",
              "      gap: 12px;\n",
              "    }\n",
              "\n",
              "    .colab-df-convert {\n",
              "      background-color: #E8F0FE;\n",
              "      border: none;\n",
              "      border-radius: 50%;\n",
              "      cursor: pointer;\n",
              "      display: none;\n",
              "      fill: #1967D2;\n",
              "      height: 32px;\n",
              "      padding: 0 0 0 0;\n",
              "      width: 32px;\n",
              "    }\n",
              "\n",
              "    .colab-df-convert:hover {\n",
              "      background-color: #E2EBFA;\n",
              "      box-shadow: 0px 1px 2px rgba(60, 64, 67, 0.3), 0px 1px 3px 1px rgba(60, 64, 67, 0.15);\n",
              "      fill: #174EA6;\n",
              "    }\n",
              "\n",
              "    [theme=dark] .colab-df-convert {\n",
              "      background-color: #3B4455;\n",
              "      fill: #D2E3FC;\n",
              "    }\n",
              "\n",
              "    [theme=dark] .colab-df-convert:hover {\n",
              "      background-color: #434B5C;\n",
              "      box-shadow: 0px 1px 3px 1px rgba(0, 0, 0, 0.15);\n",
              "      filter: drop-shadow(0px 1px 2px rgba(0, 0, 0, 0.3));\n",
              "      fill: #FFFFFF;\n",
              "    }\n",
              "  </style>\n",
              "\n",
              "      <script>\n",
              "        const buttonEl =\n",
              "          document.querySelector('#df-3cc8a87d-f211-4109-924d-c4664bf32ebe button.colab-df-convert');\n",
              "        buttonEl.style.display =\n",
              "          google.colab.kernel.accessAllowed ? 'block' : 'none';\n",
              "\n",
              "        async function convertToInteractive(key) {\n",
              "          const element = document.querySelector('#df-3cc8a87d-f211-4109-924d-c4664bf32ebe');\n",
              "          const dataTable =\n",
              "            await google.colab.kernel.invokeFunction('convertToInteractive',\n",
              "                                                     [key], {});\n",
              "          if (!dataTable) return;\n",
              "\n",
              "          const docLinkHtml = 'Like what you see? Visit the ' +\n",
              "            '<a target=\"_blank\" href=https://colab.research.google.com/notebooks/data_table.ipynb>data table notebook</a>'\n",
              "            + ' to learn more about interactive tables.';\n",
              "          element.innerHTML = '';\n",
              "          dataTable['output_type'] = 'display_data';\n",
              "          await google.colab.output.renderOutput(dataTable, element);\n",
              "          const docLink = document.createElement('div');\n",
              "          docLink.innerHTML = docLinkHtml;\n",
              "          element.appendChild(docLink);\n",
              "        }\n",
              "      </script>\n",
              "    </div>\n",
              "  </div>\n",
              "  "
            ]
          },
          "metadata": {},
          "execution_count": 3
        }
      ]
    },
    {
      "cell_type": "code",
      "source": [
        "import pandas\n",
        "import numpy\n",
        "from sklearn.model_selection import train_test_split\n",
        "\n",
        "#Split the dataset\n",
        "predictors = data.columns.drop('species')\n",
        "target = \"species\"\n",
        "train_data, test_data, train_sln, test_sln = train_test_split(data[predictors], data[target], test_size = 0.2, random_state=41)\n",
        "\n",
        "#Normalize Data\n",
        "from sklearn.preprocessing import StandardScaler\n",
        "scaler = StandardScaler()\n",
        "scaler.fit(train_data)\n",
        "train_data_norm = scaler.transform(train_data)\n",
        "test_data_norm = scaler.transform(test_data)"
      ],
      "metadata": {
        "id": "HXoWH_gsm5xu"
      },
      "execution_count": 4,
      "outputs": []
    },
    {
      "cell_type": "markdown",
      "source": [
        "## Build a MLP using `sklearn`"
      ],
      "metadata": {
        "id": "_0-LG-vRnTWA"
      }
    },
    {
      "cell_type": "code",
      "source": [
        "# Set up MLP\n",
        "from sklearn.neural_network import MLPClassifier\n",
        "from sklearn import metrics\n",
        "from sklearn.metrics import confusion_matrix, ConfusionMatrixDisplay\n",
        "import matplotlib.pyplot as plt\n",
        "\n",
        "mlp = MLPClassifier(random_state=0,hidden_layer_sizes = (100,), max_iter = 800)\n",
        "mlp.fit(train_data_norm,train_sln)\n",
        "predictions = mlp.predict(test_data_norm)\n",
        "\n",
        "print(\"Accuracy: \", metrics.accuracy_score(test_sln,predictions))\n",
        "\n",
        "# Confusion Matrix\n",
        "vals = data[target].unique() ## possible classification values (species)\n",
        "conf_mat = metrics.confusion_matrix(test_sln, predictions, labels=vals)\n",
        "\n",
        "#print(pandas.DataFrame(conf_mat, index = \"True \" + vals, columns = \"Pre \" + vals))\n",
        "\n",
        "disp = ConfusionMatrixDisplay(confusion_matrix=conf_mat,display_labels=mlp.classes_)\n",
        "disp.plot()\n",
        "plt.show()"
      ],
      "metadata": {
        "colab": {
          "base_uri": "https://localhost:8080/",
          "height": 301
        },
        "id": "TitomiUrm7a8",
        "outputId": "6b303a32-a080-48bb-ec85-870d0a20160d"
      },
      "execution_count": 5,
      "outputs": [
        {
          "output_type": "stream",
          "name": "stdout",
          "text": [
            "Accuracy:  0.9\n"
          ]
        },
        {
          "output_type": "display_data",
          "data": {
            "text/plain": [
              "<Figure size 432x288 with 2 Axes>"
            ],
            "image/png": "[encoded data removed]"
          },
          "metadata": {
            "needs_background": "light"
          }
        }
      ]
    },
    {
      "cell_type": "markdown",
      "source": [
        "## In-Class Exercise #1:\n",
        "\n",
        "1. Read in the Boston Housing dataset\n",
        "2. Normalize your data\n",
        "3. Use a [MLPRegressor](https://scikit-learn.org/stable/modules/generated/sklearn.neural_network.MLPRegressor.html) to predict the price of a house 'MEDV'\n",
        "4. Play around with changing the parameters, see what the best R2 score you can get is. "
      ],
      "metadata": {
        "id": "XU6W48v3n6a5"
      }
    },
    {
      "cell_type": "code",
      "source": [
        "# Your code goes here for the In-Class Exercise\n",
        "# 1. Read in the Boston Housing dataset\n",
        "import pandas\n",
        "housing_data = pandas.read_csv('/content/drive/MyDrive/Datasets/boston_housing.csv') \n",
        "\n",
        "# clean the data\n",
        "housing_data['CRIM'].fillna(housing_data['CRIM'].mean(),inplace=True)\n",
        "housing_data['ZN'].fillna(housing_data['ZN'].mean(),inplace=True)\n",
        "housing_data['INDUS'].fillna(housing_data['INDUS'].mean(),inplace=True)\n",
        "housing_data['CHAS'].fillna(housing_data['CHAS'].mean(),inplace=True)\n",
        "housing_data['AGE'].fillna(housing_data['AGE'].mean(),inplace=True)\n",
        "housing_data['LSTAT'].fillna(housing_data['LSTAT'].mean(),inplace=True)\n",
        "\n",
        "#Split the dataset\n",
        "predictors = housing_data.columns.drop('MEDV')\n",
        "target = \"MEDV\"\n",
        "train_data, test_data, train_sln, test_sln = train_test_split(housing_data[predictors], housing_data[target], test_size = 0.2, random_state=0)\n"
      ],
      "metadata": {
        "id": "mwjR4p5OnZw2"
      },
      "execution_count": 28,
      "outputs": []
    },
    {
      "cell_type": "code",
      "source": [
        "#2. Normalize the data\n",
        "from sklearn.preprocessing import StandardScaler\n",
        "scaler = StandardScaler()\n",
        "scaler.fit(train_data)\n",
        "train_data_norm = scaler.transform(train_data)\n",
        "test_data_norm = scaler.transform(test_data)"
      ],
      "metadata": {
        "id": "9oRUdXmOoDw5"
      },
      "execution_count": 29,
      "outputs": []
    },
    {
      "cell_type": "code",
      "source": [
        "#3. Use a MLPRegressor to predict the price of a house 'MEDV'\n",
        "from sklearn.neural_network import MLPRegressor\n",
        "from sklearn import metrics\n",
        "mlp_housing = MLPRegressor(learning_rate='invscaling',hidden_layer_sizes=(500,), max_iter=1000)\n",
        "mlp_housing.fit(train_data_norm,train_sln)\n",
        "predictions = mlp_housing.predict(test_data_norm)\n",
        "\n",
        "print(\"R2: \", metrics.r2_score(test_sln,predictions))\n"
      ],
      "metadata": {
        "id": "y--pDP_LoJES",
        "colab": {
          "base_uri": "https://localhost:8080/"
        },
        "outputId": "dd42f54d-7102-42c5-d593-affeeb65a98d"
      },
      "execution_count": 45,
      "outputs": [
        {
          "output_type": "stream",
          "name": "stdout",
          "text": [
            "R2:  0.6862848658882874\n"
          ]
        }
      ]
    },
    {
      "cell_type": "code",
      "source": [
        "#4. Play around with the parameters"
      ],
      "metadata": {
        "id": "VzJjXtUKoVsy"
      },
      "execution_count": 11,
      "outputs": []
    },
    {
      "cell_type": "markdown",
      "source": [
        "# Introducing Deep Learning Frameworks\n",
        "\n",
        "Go ahead and go up to 'Runtime', and select 'change runtime type' from the dropdown list, select 'GPU'. If you complete this step correctly, the following code should say `Found GPU at: /device:GPU:0` or something similar."
      ],
      "metadata": {
        "id": "BnifibodoYy4"
      }
    },
    {
      "cell_type": "code",
      "source": [
        "import tensorflow as tf\n",
        "device_name = tf.test.gpu_device_name()\n",
        "if device_name != '/device:GPU:0':\n",
        "  raise SystemError('GPU device not found')\n",
        "print('Found GPU at: {}'.format(device_name))"
      ],
      "metadata": {
        "colab": {
          "base_uri": "https://localhost:8080/"
        },
        "id": "VPr2BFJjoXHP",
        "outputId": "42ac7819-20f8-403b-cdc8-f268888b5505"
      },
      "execution_count": 2,
      "outputs": [
        {
          "output_type": "stream",
          "name": "stdout",
          "text": [
            "Found GPU at: /device:GPU:0\n"
          ]
        }
      ]
    },
    {
      "cell_type": "markdown",
      "source": [
        "# Iris Dataset with Keras"
      ],
      "metadata": {
        "id": "j2hk43HFohZi"
      }
    },
    {
      "cell_type": "code",
      "source": [
        "import warnings\n",
        "warnings.simplefilter(action='ignore', category=FutureWarning)\n",
        "warnings.simplefilter(action='ignore', category=DeprecationWarning)\n",
        "\n",
        "from keras.models import Sequential\n",
        "from keras.layers import Dense\n",
        "\n",
        "from sklearn.datasets import load_iris\n",
        "from sklearn.model_selection import train_test_split\n",
        "from sklearn.preprocessing import OneHotEncoder, StandardScaler\n",
        "import numpy\n",
        "\n",
        "# we're going to use the iris dataset, but load it from sklearn \n",
        "iris = load_iris()\n",
        "X = iris['data']\n",
        "y = iris['target']\n",
        "names = iris['target_names']\n",
        "feature_names = iris['feature_names']\n",
        "\n",
        "# One hot encoding\n",
        "enc = OneHotEncoder()\n",
        "Y = enc.fit_transform(y[:, numpy.newaxis]).toarray()\n",
        "\n",
        "# Split the data set into training and testing\n",
        "X_train, X_test, Y_train, Y_test = train_test_split(X, Y, test_size=0.2, random_state=2)\n",
        "\n",
        "#normalize the data\n",
        "scaler = StandardScaler()\n",
        "scaler.fit(X_train)\n",
        "X_train_norm = scaler.transform(X_train)\n",
        "X_test_norm = scaler.transform(X_test)"
      ],
      "metadata": {
        "id": "gdE9zJcxofRT"
      },
      "execution_count": 3,
      "outputs": []
    },
    {
      "cell_type": "code",
      "source": [
        "# display a row of data\n",
        "print(X_train_norm[0,:])\n",
        "print(Y_train[0,:])"
      ],
      "metadata": {
        "colab": {
          "base_uri": "https://localhost:8080/"
        },
        "id": "yD2jLOLWomXh",
        "outputId": "6a7fd1ef-cd82-4746-900b-7391076c25c8"
      },
      "execution_count": 4,
      "outputs": [
        {
          "output_type": "stream",
          "name": "stdout",
          "text": [
            "[ 0.37346331 -0.58519388  0.54075378  0.74234434]\n",
            "[0. 0. 1.]\n"
          ]
        }
      ]
    },
    {
      "cell_type": "code",
      "source": [
        "#build our neural network model\n",
        "n_features = X.shape[1] #X generally stands for our predictors\n",
        "n_classes = Y.shape[1] #Y generally stands for our target\n",
        "\n",
        "model = Sequential(name='iris_1')\n",
        "model.add(Dense(2, input_dim=n_features, activation='relu'))\n",
        "model.add(Dense(2, activation='relu'))\n",
        "model.add(Dense(n_classes, activation='softmax'))\n",
        "\n",
        "from sklearn.metrics import r2_score\n",
        "\n",
        "# Compile model\n",
        "model.compile(loss='mean_squared_error',\n",
        "              optimizer='sgd', \n",
        "              metrics=['accuracy'])\n",
        "model.summary()"
      ],
      "metadata": {
        "colab": {
          "base_uri": "https://localhost:8080/"
        },
        "id": "SV_iL0VropGm",
        "outputId": "3c499f82-2920-472d-9d17-c43fd94211af"
      },
      "execution_count": 5,
      "outputs": [
        {
          "output_type": "stream",
          "name": "stdout",
          "text": [
            "Model: \"iris_1\"\n",
            "_________________________________________________________________\n",
            " Layer (type)                Output Shape              Param #   \n",
            "=================================================================\n",
            " dense (Dense)               (None, 2)                 10        \n",
            "                                                                 \n",
            " dense_1 (Dense)             (None, 2)                 6         \n",
            "                                                                 \n",
            " dense_2 (Dense)             (None, 3)                 9         \n",
            "                                                                 \n",
            "=================================================================\n",
            "Total params: 25\n",
            "Trainable params: 25\n",
            "Non-trainable params: 0\n",
            "_________________________________________________________________\n"
          ]
        }
      ]
    },
    {
      "cell_type": "markdown",
      "source": [
        "## Keras Documentation: \n",
        "https://keras.io/api/models/model_training_apis/ "
      ],
      "metadata": {
        "id": "yrfvgXS8ouMC"
      }
    },
    {
      "cell_type": "code",
      "source": [
        "# train the model\n",
        "history = model.fit(X_train_norm, Y_train, validation_split=0.2, batch_size=15, epochs=10) #add verbose = 0 to make output minimal\n",
        "\n",
        "# cross-validation; make predictions and get error\n",
        "print(\"----\"*30)\n",
        "mse, acc =  model.evaluate(X_test_norm, Y_test)\n",
        "print('Mean Squared Error:',mse)\n",
        "print('Test accuracy:', acc)"
      ],
      "metadata": {
        "colab": {
          "base_uri": "https://localhost:8080/"
        },
        "id": "mHAWFcvYorNP",
        "outputId": "294703ea-e341-441d-d271-600686c42f68"
      },
      "execution_count": 6,
      "outputs": [
        {
          "output_type": "stream",
          "name": "stdout",
          "text": [
            "Epoch 1/10\n",
            "7/7 [==============================] - 5s 62ms/step - loss: 0.2160 - accuracy: 0.2812 - val_loss: 0.2115 - val_accuracy: 0.4167\n",
            "Epoch 2/10\n",
            "7/7 [==============================] - 0s 19ms/step - loss: 0.2159 - accuracy: 0.4271 - val_loss: 0.2113 - val_accuracy: 0.4167\n",
            "Epoch 3/10\n",
            "7/7 [==============================] - 0s 16ms/step - loss: 0.2157 - accuracy: 0.4271 - val_loss: 0.2111 - val_accuracy: 0.4167\n",
            "Epoch 4/10\n",
            "7/7 [==============================] - 0s 20ms/step - loss: 0.2156 - accuracy: 0.4271 - val_loss: 0.2109 - val_accuracy: 0.4167\n",
            "Epoch 5/10\n",
            "7/7 [==============================] - 0s 62ms/step - loss: 0.2155 - accuracy: 0.4271 - val_loss: 0.2107 - val_accuracy: 0.4167\n",
            "Epoch 6/10\n",
            "7/7 [==============================] - 0s 14ms/step - loss: 0.2153 - accuracy: 0.4271 - val_loss: 0.2104 - val_accuracy: 0.4167\n",
            "Epoch 7/10\n",
            "7/7 [==============================] - 0s 26ms/step - loss: 0.2152 - accuracy: 0.4375 - val_loss: 0.2103 - val_accuracy: 0.4167\n",
            "Epoch 8/10\n",
            "7/7 [==============================] - 0s 14ms/step - loss: 0.2150 - accuracy: 0.4271 - val_loss: 0.2101 - val_accuracy: 0.4167\n",
            "Epoch 9/10\n",
            "7/7 [==============================] - 0s 21ms/step - loss: 0.2149 - accuracy: 0.4271 - val_loss: 0.2100 - val_accuracy: 0.4167\n",
            "Epoch 10/10\n",
            "7/7 [==============================] - 0s 14ms/step - loss: 0.2148 - accuracy: 0.4479 - val_loss: 0.2098 - val_accuracy: 0.4167\n",
            "------------------------------------------------------------------------------------------------------------------------\n",
            "1/1 [==============================] - 0s 40ms/step - loss: 0.2124 - accuracy: 0.6000\n",
            "Mean Squared Error: 0.21237732470035553\n",
            "Test accuracy: 0.6000000238418579\n"
          ]
        }
      ]
    },
    {
      "cell_type": "markdown",
      "source": [
        "## 👀 Take a closer look: "
      ],
      "metadata": {
        "id": "BpHaTH9gt_01"
      }
    },
    {
      "cell_type": "code",
      "source": [
        "import keras\n",
        "from matplotlib import pyplot as plt\n",
        "plt.plot(history.history['accuracy'])\n",
        "plt.plot(history.history['val_accuracy'])\n",
        "plt.title('model accuracy')\n",
        "plt.ylabel('accuracy')\n",
        "plt.xlabel('epoch')\n",
        "plt.legend(['train', 'val'])\n",
        "plt.show()"
      ],
      "metadata": {
        "colab": {
          "base_uri": "https://localhost:8080/",
          "height": 295
        },
        "id": "VFmdQBRwsJ9k",
        "outputId": "d6fe972d-9db0-4c9c-aba0-6eb6e3c683d8"
      },
      "execution_count": 7,
      "outputs": [
        {
          "output_type": "display_data",
          "data": {
            "text/plain": [
              "<Figure size 432x288 with 1 Axes>"
            ],
            "image/png": "[encoded data removed]"
          },
          "metadata": {
            "needs_background": "light"
          }
        }
      ]
    },
    {
      "cell_type": "code",
      "source": [
        "plt.plot(history.history['loss'])\n",
        "plt.plot(history.history['val_loss'])\n",
        "plt.title('model loss')\n",
        "plt.ylabel('loss')\n",
        "plt.xlabel('epoch')\n",
        "plt.legend(['train', 'val'])\n",
        "plt.show()"
      ],
      "metadata": {
        "colab": {
          "base_uri": "https://localhost:8080/",
          "height": 295
        },
        "id": "RkWoCtSZt5B6",
        "outputId": "5b3f0584-fe7d-4225-d37f-06e0c1d45203"
      },
      "execution_count": 8,
      "outputs": [
        {
          "output_type": "display_data",
          "data": {
            "text/plain": [
              "<Figure size 432x288 with 1 Axes>"
            ],
            "image/png": "[encoded data removed]"
          },
          "metadata": {
            "needs_background": "light"
          }
        }
      ]
    },
    {
      "cell_type": "markdown",
      "source": [
        "# Boston Housing Dataset with Keras"
      ],
      "metadata": {
        "id": "iWxhMrpYo6MC"
      }
    },
    {
      "cell_type": "code",
      "source": [
        "from keras.datasets import boston_housing\n",
        "\n",
        "# we're going to use the Bosting housing dataset, but load it from keras \n",
        "housing_data = boston_housing.load_data(test_split=0.2) #it comes with it's own test/train split :) \n",
        "(X_train, Y_train), (X_test, Y_test) = housing_data"
      ],
      "metadata": {
        "id": "mPniBtLFo2Q9",
        "colab": {
          "base_uri": "https://localhost:8080/"
        },
        "outputId": "2d495594-2b36-4360-be9d-90bffc01caad"
      },
      "execution_count": 9,
      "outputs": [
        {
          "output_type": "stream",
          "name": "stdout",
          "text": [
            "Downloading data from https://storage.googleapis.com/tensorflow/tf-keras-datasets/boston_housing.npz\n",
            "57026/57026 [==============================] - 0s 0us/step\n"
          ]
        }
      ]
    },
    {
      "cell_type": "code",
      "source": [
        "# normalize the data\n",
        "scaler = StandardScaler()\n",
        "scaler.fit(X_train)\n",
        "X_train_norm = scaler.transform(X_train)\n",
        "X_test_norm = scaler.transform(X_test)"
      ],
      "metadata": {
        "id": "jzi3HCJ9o9qV"
      },
      "execution_count": 10,
      "outputs": []
    },
    {
      "cell_type": "code",
      "source": [
        "### need to execute this to get access to RSquare function\n",
        "!pip install tensorflow_addons"
      ],
      "metadata": {
        "colab": {
          "base_uri": "https://localhost:8080/"
        },
        "id": "DFHGeYbZo_PO",
        "outputId": "3f498723-1e77-4c10-eb20-9831bac7fff4"
      },
      "execution_count": 11,
      "outputs": [
        {
          "output_type": "stream",
          "name": "stdout",
          "text": [
            "Looking in indexes: https://pypi.org/simple, https://us-python.pkg.dev/colab-wheels/public/simple/\n",
            "Collecting tensorflow_addons\n",
            "  Downloading tensorflow_addons-0.19.0-cp38-cp38-manylinux_2_17_x86_64.manylinux2014_x86_64.whl (1.1 MB)\n",
            "\u001b[2K     \u001b[90m━━━━━━━━━━━━━━━━━━━━━━━━━━━━━━━━━━━━━━━━\u001b[0m \u001b[32m1.1/1.1 MB\u001b[0m \u001b[31m25.3 MB/s\u001b[0m eta \u001b[36m0:00:00\u001b[0m\n",
            "\u001b[?25hRequirement already satisfied: typeguard>=2.7 in /usr/local/lib/python3.8/dist-packages (from tensorflow_addons) (2.7.1)\n",
            "Requirement already satisfied: packaging in /usr/local/lib/python3.8/dist-packages (from tensorflow_addons) (21.3)\n",
            "Requirement already satisfied: pyparsing!=3.0.5,>=2.0.2 in /usr/local/lib/python3.8/dist-packages (from packaging->tensorflow_addons) (3.0.9)\n",
            "Installing collected packages: tensorflow_addons\n",
            "Successfully installed tensorflow_addons-0.19.0\n"
          ]
        }
      ]
    },
    {
      "cell_type": "code",
      "source": [
        "from keras import models\n",
        "from keras import layers\n",
        "\n",
        "from tensorflow_addons.metrics import RSquare\n",
        "\n",
        "#build our model\n",
        "n_features = X_train.shape[1] # get the number of input values for the input layer\n",
        "\n",
        "model = Sequential(name='boston_housing1')   #initialize the model\n",
        "\n",
        "#add some layers. Dense is a fully connected layer\n",
        "model.add(layers.Dense(64, input_dim= n_features, activation='relu'))\n",
        "model.add(layers.Dense(64, activation='relu'))\n",
        "\n",
        "#Since we are doing a regressions, we only want one value as an ouput, so our last layer has a Dense layer with 1 neuron.\n",
        "model.add(layers.Dense(1)) #default activation function is \"linear\"\n",
        "\n",
        "from sklearn.metrics import r2_score\n",
        "# Compile model\n",
        "model.compile(loss='mean_squared_error',\n",
        "              optimizer='sgd', \n",
        "              metrics= RSquare()) #tf.keras.losses.MeanSquaredError()\n",
        "model.summary()"
      ],
      "metadata": {
        "colab": {
          "base_uri": "https://localhost:8080/"
        },
        "id": "CwlPcyl0pA9Q",
        "outputId": "23c34daa-29ac-4de1-834a-ce73d70644eb"
      },
      "execution_count": 12,
      "outputs": [
        {
          "output_type": "stream",
          "name": "stdout",
          "text": [
            "Model: \"boston_housing1\"\n",
            "_________________________________________________________________\n",
            " Layer (type)                Output Shape              Param #   \n",
            "=================================================================\n",
            " dense_3 (Dense)             (None, 64)                896       \n",
            "                                                                 \n",
            " dense_4 (Dense)             (None, 64)                4160      \n",
            "                                                                 \n",
            " dense_5 (Dense)             (None, 1)                 65        \n",
            "                                                                 \n",
            "=================================================================\n",
            "Total params: 5,121\n",
            "Trainable params: 5,121\n",
            "Non-trainable params: 0\n",
            "_________________________________________________________________\n"
          ]
        }
      ]
    },
    {
      "cell_type": "code",
      "source": [
        "# train the model\n",
        "history = model.fit(X_train_norm, Y_train, epochs=50, validation_split=0.1, batch_size=15, verbose=1)\n",
        "\n",
        "print(\"----\"*30)\n",
        "\n",
        "# cross-validation; make predictions and get error\n",
        "test_mse_score, test_r2_score = model.evaluate(X_test_norm, Y_test)\n",
        "print('MSE:', test_mse_score)\n",
        "print('r2:', test_r2_score)"
      ],
      "metadata": {
        "colab": {
          "base_uri": "https://localhost:8080/"
        },
        "id": "5O0CcVhepDnx",
        "outputId": "ce320603-e901-4125-fcda-f19c482c3a02"
      },
      "execution_count": 13,
      "outputs": [
        {
          "output_type": "stream",
          "name": "stdout",
          "text": [
            "Epoch 1/50\n",
            "25/25 [==============================] - 1s 10ms/step - loss: 320.0932 - r_square: -2.5860 - val_loss: 101.5470 - val_r_square: -1.3793\n",
            "Epoch 2/50\n",
            "25/25 [==============================] - 0s 4ms/step - loss: 125.0838 - r_square: -0.4013 - val_loss: 229.0548 - val_r_square: -4.3668\n",
            "Epoch 3/50\n",
            "25/25 [==============================] - 0s 5ms/step - loss: 101.5623 - r_square: -0.1378 - val_loss: 24.0895 - val_r_square: 0.4356\n",
            "Epoch 4/50\n",
            "25/25 [==============================] - 0s 6ms/step - loss: 39.9041 - r_square: 0.5530 - val_loss: 41.6273 - val_r_square: 0.0247\n",
            "Epoch 5/50\n",
            "25/25 [==============================] - 0s 7ms/step - loss: 43.1398 - r_square: 0.5167 - val_loss: 41.2536 - val_r_square: 0.0334\n",
            "Epoch 6/50\n",
            "25/25 [==============================] - 0s 5ms/step - loss: 40.6540 - r_square: 0.5446 - val_loss: 12.1190 - val_r_square: 0.7160\n",
            "Epoch 7/50\n",
            "25/25 [==============================] - 0s 4ms/step - loss: 14.1996 - r_square: 0.8409 - val_loss: 10.5788 - val_r_square: 0.7521\n",
            "Epoch 8/50\n",
            "25/25 [==============================] - 0s 4ms/step - loss: 19.0221 - r_square: 0.7869 - val_loss: 11.0966 - val_r_square: 0.7400\n",
            "Epoch 9/50\n",
            "25/25 [==============================] - 0s 4ms/step - loss: 36.4976 - r_square: 0.5911 - val_loss: 14.8252 - val_r_square: 0.6526\n",
            "Epoch 10/50\n",
            "25/25 [==============================] - 0s 4ms/step - loss: 34.7659 - r_square: 0.6105 - val_loss: 14.8309 - val_r_square: 0.6525\n",
            "Epoch 11/50\n",
            "25/25 [==============================] - 0s 4ms/step - loss: 15.1380 - r_square: 0.8304 - val_loss: 1948.4933 - val_r_square: -44.6539\n",
            "Epoch 12/50\n",
            "25/25 [==============================] - 0s 4ms/step - loss: 1430.3347 - r_square: -15.0238 - val_loss: 141.2075 - val_r_square: -2.3085\n",
            "Epoch 13/50\n",
            "25/25 [==============================] - 0s 4ms/step - loss: 112.8132 - r_square: -0.2638 - val_loss: 39.3000 - val_r_square: 0.0792\n",
            "Epoch 14/50\n",
            "25/25 [==============================] - 0s 4ms/step - loss: 35.6366 - r_square: 0.6008 - val_loss: 15.4466 - val_r_square: 0.6381\n",
            "Epoch 15/50\n",
            "25/25 [==============================] - 0s 4ms/step - loss: 30.6328 - r_square: 0.6568 - val_loss: 11.7506 - val_r_square: 0.7247\n",
            "Epoch 16/50\n",
            "25/25 [==============================] - 0s 7ms/step - loss: 34.5002 - r_square: 0.6135 - val_loss: 12.2106 - val_r_square: 0.7139\n",
            "Epoch 17/50\n",
            "25/25 [==============================] - 0s 6ms/step - loss: 38.7612 - r_square: 0.5658 - val_loss: 10.9142 - val_r_square: 0.7443\n",
            "Epoch 18/50\n",
            "25/25 [==============================] - 0s 6ms/step - loss: 31.6763 - r_square: 0.6451 - val_loss: 10.7197 - val_r_square: 0.7488\n",
            "Epoch 19/50\n",
            "25/25 [==============================] - 0s 8ms/step - loss: 29.5011 - r_square: 0.6695 - val_loss: 10.7564 - val_r_square: 0.7480\n",
            "Epoch 20/50\n",
            "25/25 [==============================] - 0s 7ms/step - loss: 27.6272 - r_square: 0.6905 - val_loss: 10.3935 - val_r_square: 0.7565\n",
            "Epoch 21/50\n",
            "25/25 [==============================] - 0s 9ms/step - loss: 27.8129 - r_square: 0.6884 - val_loss: 14.0023 - val_r_square: 0.6719\n",
            "Epoch 22/50\n",
            "25/25 [==============================] - 0s 8ms/step - loss: 28.4133 - r_square: 0.6817 - val_loss: 11.2379 - val_r_square: 0.7367\n",
            "Epoch 23/50\n",
            "25/25 [==============================] - 0s 10ms/step - loss: 30.1989 - r_square: 0.6617 - val_loss: 13.1687 - val_r_square: 0.6915\n",
            "Epoch 24/50\n",
            "25/25 [==============================] - 0s 11ms/step - loss: 30.8894 - r_square: 0.6540 - val_loss: 11.0175 - val_r_square: 0.7419\n",
            "Epoch 25/50\n",
            "25/25 [==============================] - 0s 9ms/step - loss: 27.9272 - r_square: 0.6871 - val_loss: 11.0634 - val_r_square: 0.7408\n",
            "Epoch 26/50\n",
            "25/25 [==============================] - 0s 9ms/step - loss: 28.5068 - r_square: 0.6806 - val_loss: 11.6546 - val_r_square: 0.7269\n",
            "Epoch 27/50\n",
            "25/25 [==============================] - 0s 6ms/step - loss: 28.1379 - r_square: 0.6848 - val_loss: 13.5112 - val_r_square: 0.6834\n",
            "Epoch 28/50\n",
            "25/25 [==============================] - 0s 6ms/step - loss: 27.8657 - r_square: 0.6878 - val_loss: 13.5021 - val_r_square: 0.6836\n",
            "Epoch 29/50\n",
            "25/25 [==============================] - 0s 6ms/step - loss: 943.8211 - r_square: -9.5735 - val_loss: 82.1359 - val_r_square: -0.9245\n",
            "Epoch 30/50\n",
            "25/25 [==============================] - 0s 7ms/step - loss: 232.0523 - r_square: -1.5996 - val_loss: 42.4226 - val_r_square: 0.0060\n",
            "Epoch 31/50\n",
            "25/25 [==============================] - 0s 7ms/step - loss: 66.7369 - r_square: 0.2524 - val_loss: 26.0573 - val_r_square: 0.3895\n",
            "Epoch 32/50\n",
            "25/25 [==============================] - 0s 6ms/step - loss: nan - r_square: nan - val_loss: nan - val_r_square: nan\n",
            "Epoch 33/50\n",
            "25/25 [==============================] - 0s 6ms/step - loss: nan - r_square: nan - val_loss: nan - val_r_square: nan\n",
            "Epoch 34/50\n",
            "25/25 [==============================] - 0s 6ms/step - loss: nan - r_square: nan - val_loss: nan - val_r_square: nan\n",
            "Epoch 35/50\n",
            "25/25 [==============================] - 0s 8ms/step - loss: nan - r_square: nan - val_loss: nan - val_r_square: nan\n",
            "Epoch 36/50\n",
            "25/25 [==============================] - 0s 7ms/step - loss: nan - r_square: nan - val_loss: nan - val_r_square: nan\n",
            "Epoch 37/50\n",
            "25/25 [==============================] - 0s 8ms/step - loss: nan - r_square: nan - val_loss: nan - val_r_square: nan\n",
            "Epoch 38/50\n",
            "25/25 [==============================] - 0s 6ms/step - loss: nan - r_square: nan - val_loss: nan - val_r_square: nan\n",
            "Epoch 39/50\n",
            "25/25 [==============================] - 0s 6ms/step - loss: nan - r_square: nan - val_loss: nan - val_r_square: nan\n",
            "Epoch 40/50\n",
            "25/25 [==============================] - 0s 7ms/step - loss: nan - r_square: nan - val_loss: nan - val_r_square: nan\n",
            "Epoch 41/50\n",
            "25/25 [==============================] - 0s 9ms/step - loss: nan - r_square: nan - val_loss: nan - val_r_square: nan\n",
            "Epoch 42/50\n",
            "25/25 [==============================] - 0s 7ms/step - loss: nan - r_square: nan - val_loss: nan - val_r_square: nan\n",
            "Epoch 43/50\n",
            "25/25 [==============================] - 0s 7ms/step - loss: nan - r_square: nan - val_loss: nan - val_r_square: nan\n",
            "Epoch 44/50\n",
            "25/25 [==============================] - 0s 7ms/step - loss: nan - r_square: nan - val_loss: nan - val_r_square: nan\n",
            "Epoch 45/50\n",
            "25/25 [==============================] - 0s 6ms/step - loss: nan - r_square: nan - val_loss: nan - val_r_square: nan\n",
            "Epoch 46/50\n",
            "25/25 [==============================] - 0s 9ms/step - loss: nan - r_square: nan - val_loss: nan - val_r_square: nan\n",
            "Epoch 47/50\n",
            "25/25 [==============================] - 0s 6ms/step - loss: nan - r_square: nan - val_loss: nan - val_r_square: nan\n",
            "Epoch 48/50\n",
            "25/25 [==============================] - 0s 7ms/step - loss: nan - r_square: nan - val_loss: nan - val_r_square: nan\n",
            "Epoch 49/50\n",
            "25/25 [==============================] - 0s 7ms/step - loss: nan - r_square: nan - val_loss: nan - val_r_square: nan\n",
            "Epoch 50/50\n",
            "25/25 [==============================] - 0s 7ms/step - loss: nan - r_square: nan - val_loss: nan - val_r_square: nan\n",
            "------------------------------------------------------------------------------------------------------------------------\n",
            "4/4 [==============================] - 0s 8ms/step - loss: nan - r_square: nan\n",
            "MSE: nan\n",
            "r2: nan\n"
          ]
        }
      ]
    },
    {
      "cell_type": "code",
      "source": [
        "history.history #this will show you what was saved in the history variable"
      ],
      "metadata": {
        "id": "N2z5o-vRwBF7",
        "colab": {
          "base_uri": "https://localhost:8080/"
        },
        "outputId": "ff576820-f2c0-4546-a6ab-2ad2f9aab42d"
      },
      "execution_count": 14,
      "outputs": [
        {
          "output_type": "execute_result",
          "data": {
            "text/plain": [
              "{'loss': [320.0931701660156,\n",
              "  125.08384704589844,\n",
              "  101.56227111816406,\n",
              "  39.904117584228516,\n",
              "  43.13978958129883,\n",
              "  40.654022216796875,\n",
              "  14.199627876281738,\n",
              "  19.022098541259766,\n",
              "  36.49755859375,\n",
              "  34.765869140625,\n",
              "  15.137974739074707,\n",
              "  1430.334716796875,\n",
              "  112.813232421875,\n",
              "  35.63661193847656,\n",
              "  30.632831573486328,\n",
              "  34.500152587890625,\n",
              "  38.76122283935547,\n",
              "  31.676258087158203,\n",
              "  29.501134872436523,\n",
              "  27.62717056274414,\n",
              "  27.81285858154297,\n",
              "  28.413280487060547,\n",
              "  30.19886016845703,\n",
              "  30.889360427856445,\n",
              "  27.927223205566406,\n",
              "  28.506797790527344,\n",
              "  28.137853622436523,\n",
              "  27.86566734313965,\n",
              "  943.8211059570312,\n",
              "  232.0523223876953,\n",
              "  66.73692321777344,\n",
              "  nan,\n",
              "  nan,\n",
              "  nan,\n",
              "  nan,\n",
              "  nan,\n",
              "  nan,\n",
              "  nan,\n",
              "  nan,\n",
              "  nan,\n",
              "  nan,\n",
              "  nan,\n",
              "  nan,\n",
              "  nan,\n",
              "  nan,\n",
              "  nan,\n",
              "  nan,\n",
              "  nan,\n",
              "  nan,\n",
              "  nan],\n",
              " 'r_square': [-2.5859522819519043,\n",
              "  -0.40129363536834717,\n",
              "  -0.13778579235076904,\n",
              "  0.552962064743042,\n",
              "  0.5167125463485718,\n",
              "  0.5445610284805298,\n",
              "  0.8409243822097778,\n",
              "  0.7868984937667847,\n",
              "  0.5911248922348022,\n",
              "  0.6105239391326904,\n",
              "  0.8304120898246765,\n",
              "  -15.023801803588867,\n",
              "  -0.26382672786712646,\n",
              "  0.6007695198059082,\n",
              "  0.6568260192871094,\n",
              "  0.6135010719299316,\n",
              "  0.5657646656036377,\n",
              "  0.6451366543769836,\n",
              "  0.6695041656494141,\n",
              "  0.6904982924461365,\n",
              "  0.6884173154830933,\n",
              "  0.6816909313201904,\n",
              "  0.6616878509521484,\n",
              "  0.6539516448974609,\n",
              "  0.6871361136436462,\n",
              "  0.6806436777114868,\n",
              "  0.6847763061523438,\n",
              "  0.6878260374069214,\n",
              "  -9.573451042175293,\n",
              "  -1.5996472835540771,\n",
              "  0.25235694646835327,\n",
              "  nan,\n",
              "  nan,\n",
              "  nan,\n",
              "  nan,\n",
              "  nan,\n",
              "  nan,\n",
              "  nan,\n",
              "  nan,\n",
              "  nan,\n",
              "  nan,\n",
              "  nan,\n",
              "  nan,\n",
              "  nan,\n",
              "  nan,\n",
              "  nan,\n",
              "  nan,\n",
              "  nan,\n",
              "  nan,\n",
              "  nan],\n",
              " 'val_loss': [101.54698181152344,\n",
              "  229.0547637939453,\n",
              "  24.089521408081055,\n",
              "  41.62728500366211,\n",
              "  41.25358581542969,\n",
              "  12.11900806427002,\n",
              "  10.578767776489258,\n",
              "  11.096590995788574,\n",
              "  14.825203895568848,\n",
              "  14.830903053283691,\n",
              "  1948.4932861328125,\n",
              "  141.20751953125,\n",
              "  39.30001449584961,\n",
              "  15.446592330932617,\n",
              "  11.75062084197998,\n",
              "  12.210593223571777,\n",
              "  10.914216995239258,\n",
              "  10.71967887878418,\n",
              "  10.756366729736328,\n",
              "  10.393533706665039,\n",
              "  14.002280235290527,\n",
              "  11.237926483154297,\n",
              "  13.16874885559082,\n",
              "  11.017539978027344,\n",
              "  11.063401222229004,\n",
              "  11.65457820892334,\n",
              "  13.511163711547852,\n",
              "  13.502117156982422,\n",
              "  82.13593292236328,\n",
              "  42.422550201416016,\n",
              "  26.05731964111328,\n",
              "  nan,\n",
              "  nan,\n",
              "  nan,\n",
              "  nan,\n",
              "  nan,\n",
              "  nan,\n",
              "  nan,\n",
              "  nan,\n",
              "  nan,\n",
              "  nan,\n",
              "  nan,\n",
              "  nan,\n",
              "  nan,\n",
              "  nan,\n",
              "  nan,\n",
              "  nan,\n",
              "  nan,\n",
              "  nan,\n",
              "  nan],\n",
              " 'val_r_square': [-1.3792839050292969,\n",
              "  -4.3668389320373535,\n",
              "  0.4355734586715698,\n",
              "  0.024657011032104492,\n",
              "  0.033412933349609375,\n",
              "  0.7160470485687256,\n",
              "  0.7521355152130127,\n",
              "  0.7400026917457581,\n",
              "  0.6526398658752441,\n",
              "  0.6525063514709473,\n",
              "  -44.6539306640625,\n",
              "  -2.3085453510284424,\n",
              "  0.07918590307235718,\n",
              "  0.6380805373191833,\n",
              "  0.7246785163879395,\n",
              "  0.713901162147522,\n",
              "  0.7442758083343506,\n",
              "  0.7488338947296143,\n",
              "  0.7479742765426636,\n",
              "  0.756475567817688,\n",
              "  0.6719212532043457,\n",
              "  0.7366911768913269,\n",
              "  0.6914513111114502,\n",
              "  0.7418549060821533,\n",
              "  0.7407803535461426,\n",
              "  0.7269288301467896,\n",
              "  0.6834282875061035,\n",
              "  0.6836403608322144,\n",
              "  -0.9244757890701294,\n",
              "  0.006023705005645752,\n",
              "  0.3894672393798828,\n",
              "  nan,\n",
              "  nan,\n",
              "  nan,\n",
              "  nan,\n",
              "  nan,\n",
              "  nan,\n",
              "  nan,\n",
              "  nan,\n",
              "  nan,\n",
              "  nan,\n",
              "  nan,\n",
              "  nan,\n",
              "  nan,\n",
              "  nan,\n",
              "  nan,\n",
              "  nan,\n",
              "  nan,\n",
              "  nan,\n",
              "  nan]}"
            ]
          },
          "metadata": {},
          "execution_count": 14
        }
      ]
    },
    {
      "cell_type": "code",
      "source": [
        "import pandas\n",
        "#pandas.DataFrame(history.history).plot(figsize=(8,5), title='Boston Housing')\n",
        "#plt.show()\n",
        "\n",
        "import keras\n",
        "from matplotlib import pyplot as plt\n",
        "plt.plot(history.history['loss'])\n",
        "plt.plot(history.history['val_loss'])\n",
        "plt.title('model loss')\n",
        "plt.ylabel('MSE')\n",
        "plt.xlabel('epoch')\n",
        "plt.legend(['train', 'val'])\n",
        "plt.show()"
      ],
      "metadata": {
        "colab": {
          "base_uri": "https://localhost:8080/",
          "height": 295
        },
        "id": "FQC0Yz9wqrb-",
        "outputId": "94e4e42d-b270-4206-c603-cb1344364ee2"
      },
      "execution_count": 15,
      "outputs": [
        {
          "output_type": "display_data",
          "data": {
            "text/plain": [
              "<Figure size 432x288 with 1 Axes>"
            ],
            "image/png": "[encoded data removed]"
          },
          "metadata": {
            "needs_background": "light"
          }
        }
      ]
    },
    {
      "cell_type": "code",
      "source": [
        "import keras\n",
        "from matplotlib import pyplot as plt\n",
        "plt.plot(history.history['r_square'])\n",
        "plt.plot(history.history['val_r_square'])\n",
        "plt.title('model accuracy')\n",
        "plt.ylabel('R^2')\n",
        "plt.xlabel('epoch')\n",
        "plt.legend(['train', 'val'])\n",
        "plt.show()"
      ],
      "metadata": {
        "colab": {
          "base_uri": "https://localhost:8080/",
          "height": 295
        },
        "id": "7GhwgH-Rp1O1",
        "outputId": "c7ea5499-3fb4-4455-9361-51ab13f66e6b"
      },
      "execution_count": 16,
      "outputs": [
        {
          "output_type": "display_data",
          "data": {
            "text/plain": [
              "<Figure size 432x288 with 1 Axes>"
            ],
            "image/png": "[encoded data removed]"
          },
          "metadata": {
            "needs_background": "light"
          }
        }
      ]
    },
    {
      "cell_type": "markdown",
      "source": [
        "# In Class Exercise #2\n",
        "What parameters from the models above do you think you can/should change? \n",
        "\n",
        "\n",
        "Try these\n",
        "- Change the number of neurons in each layer.  \n",
        "- Add a layer to the model.\n",
        "- Change the activation function of the model, [here is the documentation](https://keras.io/api/layers/activations/)\n",
        "- Change the optimizer, [here is the documentation](https://keras.io/api/optimizers/) with a list of options\n",
        "- look at the [metrics](https://keras.io/api/metrics/) try adding another metric."
      ],
      "metadata": {
        "id": "35EulYVbpItw"
      }
    },
    {
      "cell_type": "code",
      "source": [],
      "metadata": {
        "id": "zSHfkbwzpFmh"
      },
      "execution_count": 16,
      "outputs": []
    }
  ]
}