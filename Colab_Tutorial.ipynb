{
  "nbformat": 4,
  "nbformat_minor": 0,
  "metadata": {
    "colab": {
      "provenance": []
    },
    "kernelspec": {
      "name": "python3",
      "display_name": "Python 3"
    },
    "language_info": {
      "name": "python"
    }
  },
  "cells": [
    {
      "cell_type": "markdown",
      "source": [
        "# Colab Tutorial\n",
        "Jan 3rd, 2023\n",
        "\n",
        "You can run Python code in Colabl. Use the short cut `shift + return`\n",
        "\n",
        "Markdown basics:\n",
        "- **bold text**\n",
        "- *italicized*, also _italics_\n",
        "- `typewriter text`\n",
        "- [something linky](https://www.tablesgenerator.com/markdown_tables)\n",
        "  - new level of indent\n",
        "\n",
        "| 1 | 2 | 3 | 4 | 5 |\n",
        "|---|---|---|---|---|\n",
        "| 6 | 7 | 8 | 9 | 0 |\n",
        "| 1 | 2 | 3 | 4 | 5 |\n",
        "| 6 | 7 | 8 | 9 | 0 |\n"
      ],
      "metadata": {
        "id": "uosycOnFi2ok"
      }
    },
    {
      "cell_type": "code",
      "source": [
        "my_func(1,5)"
      ],
      "metadata": {
        "id": "yV7lTm47kbmB"
      },
      "execution_count": null,
      "outputs": []
    }
  ]
}