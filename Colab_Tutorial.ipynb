{
  "nbformat": 4,
  "nbformat_minor": 0,
  "metadata": {
    "colab": {
      "provenance": [],
      "authorship_tag": "ABX9TyMpbs1rnLBcpn0D5GMLgeKi",
      "include_colab_link": true
    },
    "kernelspec": {
      "name": "python3",
      "display_name": "Python 3"
    },
    "language_info": {
      "name": "python"
    }
  },
  "cells": [
    {
      "cell_type": "markdown",
      "metadata": {
        "id": "view-in-github",
        "colab_type": "text"
      },
      "source": [
        "<a href=\"https://colab.research.google.com/github/erinmcmullen/CS167-Notes/blob/main/Colab_Tutorial.ipynb\" target=\"_parent\"><img src=\"https://colab.research.google.com/assets/colab-badge.svg\" alt=\"Open In Colab\"/></a>"
      ]
    },
    {
      "cell_type": "markdown",
      "source": [
        "# Colab Tutorial\n",
        "Jan 3rd, 2023\n",
        "\n",
        "You can run Python code in Colabl. Use the short cut `shift + return`\n",
        "\n",
        "Markdown basics:\n",
        "- **bold text**\n",
        "- *italicized*, also _italics_\n",
        "- `typewriter text`\n",
        "- [something linky](https://www.tablesgenerator.com/markdown_tables)\n",
        "  - new level of indent\n",
        "\n",
        "| 1 | 2 | 3 | 4 | 5 |\n",
        "|---|---|---|---|---|\n",
        "| 6 | 7 | 8 | 9 | 0 |\n",
        "| 1 | 2 | 3 | 4 | 5 |\n",
        "| 6 | 7 | 8 | 9 | 0 |\n"
      ],
      "metadata": {
        "id": "uosycOnFi2ok"
      }
    },
    {
      "cell_type": "code",
      "source": [
        "my_func(1,5)"
      ],
      "metadata": {
        "id": "yV7lTm47kbmB"
      },
      "execution_count": null,
      "outputs": []
    }
  ]
}