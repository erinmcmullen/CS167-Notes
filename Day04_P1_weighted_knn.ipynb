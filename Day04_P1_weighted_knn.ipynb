{
  "cells": [
    {
      "cell_type": "markdown",
      "metadata": {
        "id": "view-in-github",
        "colab_type": "text"
      },
      "source": [
        "<a href=\"https://colab.research.google.com/github/erinmcmullen/CS167-Notes/blob/main/Day04_P1_weighted_knn.ipynb\" target=\"_parent\"><img src=\"https://colab.research.google.com/assets/colab-badge.svg\" alt=\"Open In Colab\"/></a>"
      ]
    },
    {
      "cell_type": "markdown",
      "metadata": {
        "id": "22YAiRzihkao"
      },
      "source": [
        "# CS167: Day04 \n",
        "## Part 1: weighted kNN\n",
        "\n",
        "#### CS167: Machine Learning, J-Term 2023\n",
        "\n",
        "Friday, January 6th, 2023 -- Session I (9:00-10:15)\n",
        "\n",
        "[⏮ Day03 Part 2](https://github.com/merriekay/j23_cs167_notes/blob/main/Day03_P2_Missing_Data_Normalization.ipynb) | [Day03 Part 2⏩]()"
      ]
    },
    {
      "cell_type": "markdown",
      "metadata": {
        "id": "HClRDLSshkar"
      },
      "source": [
        "## Helpful Links:\n",
        "📆 [Course Schedule](https://docs.google.com/spreadsheets/d/e/2PACX-1vStj3FCEJqloUMLn2VtHa4yy1ILY6WvABhu4jd4cVUpPGkrx1mEjfTFmd77DMESR9HJ-8UBxgMDJL06/pubhtml?gid=0&single=true) | 🙋[PollEverywhere](https://pollev.com/meredithmoore011) | 📜 [Syllabus](https://analytics.drake.edu/~moore/j23_cs167/Syllabus.html)\n"
      ]
    },
    {
      "cell_type": "markdown",
      "metadata": {
        "id": "_h296PuLhkas"
      },
      "source": [
        "# Overview of Today:\n",
        "\n",
        "Part 1: Notebook #2 Questions, weighted kNN\n",
        "\n",
        "Part 2: Graphs, Metrics, and Testing"
      ]
    },
    {
      "cell_type": "markdown",
      "metadata": {
        "id": "CL1tswmbhkat"
      },
      "source": [
        "# Admin Stuff\n",
        "\n",
        "You should be working on:\n",
        "- [Notebook #2: kNN and Normalization](https://classroom.github.com/a/ZihGOnY-) is released today, but will be due on Friday 1/6 by 11:59pm.\n",
        "- Quiz #1 will be released today after class and will be due Monday 1/9/23 by 11:59pm. \n",
        "    - Blackboard\n",
        "    - To be completed individually\n",
        "    - Cite any external resoucres you use, please.\n"
      ]
    },
    {
      "cell_type": "markdown",
      "metadata": {
        "id": "Ucavs_yghkat"
      },
      "source": [
        "## Can't forget to load our data:\n",
        "\n",
        "And some of our favorite modulues, `pandas` and `numpy`"
      ]
    },
    {
      "cell_type": "code",
      "execution_count": 1,
      "metadata": {
        "id": "xxW7g9Qshkau",
        "colab": {
          "base_uri": "https://localhost:8080/"
        },
        "outputId": "1eb26d23-b738-40d9-b182-ca01098ea2b3"
      },
      "outputs": [
        {
          "output_type": "stream",
          "name": "stdout",
          "text": [
            "Mounted at /content/drive\n"
          ]
        }
      ],
      "source": [
        "#run this cell if you're using Colab:\n",
        "from google.colab import drive\n",
        "drive.mount('/content/drive')"
      ]
    },
    {
      "cell_type": "code",
      "execution_count": 2,
      "metadata": {
        "id": "1KQujjonhkav",
        "outputId": "e50c4a4f-cc00-4440-8bea-0842b00165b7",
        "colab": {
          "base_uri": "https://localhost:8080/",
          "height": 206
        }
      },
      "outputs": [
        {
          "output_type": "execute_result",
          "data": {
            "text/plain": [
              "   sepal length  sepal width  petal length  petal width      species\n",
              "0           5.1          3.5           1.4          0.2  Iris-setosa\n",
              "1           4.9          3.0           1.4          0.2  Iris-setosa\n",
              "2           4.7          3.2           1.3          0.2  Iris-setosa\n",
              "3           4.6          3.1           1.5          0.2  Iris-setosa\n",
              "4           5.0          3.6           1.4          0.2  Iris-setosa"
            ],
            "text/html": [
              "\n",
              "  <div id=\"df-a3593e81-2c22-479d-97fc-21fb0553f90e\">\n",
              "    <div class=\"colab-df-container\">\n",
              "      <div>\n",
              "<style scoped>\n",
              "    .dataframe tbody tr th:only-of-type {\n",
              "        vertical-align: middle;\n",
              "    }\n",
              "\n",
              "    .dataframe tbody tr th {\n",
              "        vertical-align: top;\n",
              "    }\n",
              "\n",
              "    .dataframe thead th {\n",
              "        text-align: right;\n",
              "    }\n",
              "</style>\n",
              "<table border=\"1\" class=\"dataframe\">\n",
              "  <thead>\n",
              "    <tr style=\"text-align: right;\">\n",
              "      <th></th>\n",
              "      <th>sepal length</th>\n",
              "      <th>sepal width</th>\n",
              "      <th>petal length</th>\n",
              "      <th>petal width</th>\n",
              "      <th>species</th>\n",
              "    </tr>\n",
              "  </thead>\n",
              "  <tbody>\n",
              "    <tr>\n",
              "      <th>0</th>\n",
              "      <td>5.1</td>\n",
              "      <td>3.5</td>\n",
              "      <td>1.4</td>\n",
              "      <td>0.2</td>\n",
              "      <td>Iris-setosa</td>\n",
              "    </tr>\n",
              "    <tr>\n",
              "      <th>1</th>\n",
              "      <td>4.9</td>\n",
              "      <td>3.0</td>\n",
              "      <td>1.4</td>\n",
              "      <td>0.2</td>\n",
              "      <td>Iris-setosa</td>\n",
              "    </tr>\n",
              "    <tr>\n",
              "      <th>2</th>\n",
              "      <td>4.7</td>\n",
              "      <td>3.2</td>\n",
              "      <td>1.3</td>\n",
              "      <td>0.2</td>\n",
              "      <td>Iris-setosa</td>\n",
              "    </tr>\n",
              "    <tr>\n",
              "      <th>3</th>\n",
              "      <td>4.6</td>\n",
              "      <td>3.1</td>\n",
              "      <td>1.5</td>\n",
              "      <td>0.2</td>\n",
              "      <td>Iris-setosa</td>\n",
              "    </tr>\n",
              "    <tr>\n",
              "      <th>4</th>\n",
              "      <td>5.0</td>\n",
              "      <td>3.6</td>\n",
              "      <td>1.4</td>\n",
              "      <td>0.2</td>\n",
              "      <td>Iris-setosa</td>\n",
              "    </tr>\n",
              "  </tbody>\n",
              "</table>\n",
              "</div>\n",
              "      <button class=\"colab-df-convert\" onclick=\"convertToInteractive('df-a3593e81-2c22-479d-97fc-21fb0553f90e')\"\n",
              "              title=\"Convert this dataframe to an interactive table.\"\n",
              "              style=\"display:none;\">\n",
              "        \n",
              "  <svg xmlns=\"http://www.w3.org/2000/svg\" height=\"24px\"viewBox=\"0 0 24 24\"\n",
              "       width=\"24px\">\n",
              "    <path d=\"M0 0h24v24H0V0z\" fill=\"none\"/>\n",
              "    <path d=\"M18.56 5.44l.94 2.06.94-2.06 2.06-.94-2.06-.94-.94-2.06-.94 2.06-2.06.94zm-11 1L8.5 8.5l.94-2.06 2.06-.94-2.06-.94L8.5 2.5l-.94 2.06-2.06.94zm10 10l.94 2.06.94-2.06 2.06-.94-2.06-.94-.94-2.06-.94 2.06-2.06.94z\"/><path d=\"M17.41 7.96l-1.37-1.37c-.4-.4-.92-.59-1.43-.59-.52 0-1.04.2-1.43.59L10.3 9.45l-7.72 7.72c-.78.78-.78 2.05 0 2.83L4 21.41c.39.39.9.59 1.41.59.51 0 1.02-.2 1.41-.59l7.78-7.78 2.81-2.81c.8-.78.8-2.07 0-2.86zM5.41 20L4 18.59l7.72-7.72 1.47 1.35L5.41 20z\"/>\n",
              "  </svg>\n",
              "      </button>\n",
              "      \n",
              "  <style>\n",
              "    .colab-df-container {\n",
              "      display:flex;\n",
              "      flex-wrap:wrap;\n",
              "      gap: 12px;\n",
              "    }\n",
              "\n",
              "    .colab-df-convert {\n",
              "      background-color: #E8F0FE;\n",
              "      border: none;\n",
              "      border-radius: 50%;\n",
              "      cursor: pointer;\n",
              "      display: none;\n",
              "      fill: #1967D2;\n",
              "      height: 32px;\n",
              "      padding: 0 0 0 0;\n",
              "      width: 32px;\n",
              "    }\n",
              "\n",
              "    .colab-df-convert:hover {\n",
              "      background-color: #E2EBFA;\n",
              "      box-shadow: 0px 1px 2px rgba(60, 64, 67, 0.3), 0px 1px 3px 1px rgba(60, 64, 67, 0.15);\n",
              "      fill: #174EA6;\n",
              "    }\n",
              "\n",
              "    [theme=dark] .colab-df-convert {\n",
              "      background-color: #3B4455;\n",
              "      fill: #D2E3FC;\n",
              "    }\n",
              "\n",
              "    [theme=dark] .colab-df-convert:hover {\n",
              "      background-color: #434B5C;\n",
              "      box-shadow: 0px 1px 3px 1px rgba(0, 0, 0, 0.15);\n",
              "      filter: drop-shadow(0px 1px 2px rgba(0, 0, 0, 0.3));\n",
              "      fill: #FFFFFF;\n",
              "    }\n",
              "  </style>\n",
              "\n",
              "      <script>\n",
              "        const buttonEl =\n",
              "          document.querySelector('#df-a3593e81-2c22-479d-97fc-21fb0553f90e button.colab-df-convert');\n",
              "        buttonEl.style.display =\n",
              "          google.colab.kernel.accessAllowed ? 'block' : 'none';\n",
              "\n",
              "        async function convertToInteractive(key) {\n",
              "          const element = document.querySelector('#df-a3593e81-2c22-479d-97fc-21fb0553f90e');\n",
              "          const dataTable =\n",
              "            await google.colab.kernel.invokeFunction('convertToInteractive',\n",
              "                                                     [key], {});\n",
              "          if (!dataTable) return;\n",
              "\n",
              "          const docLinkHtml = 'Like what you see? Visit the ' +\n",
              "            '<a target=\"_blank\" href=https://colab.research.google.com/notebooks/data_table.ipynb>data table notebook</a>'\n",
              "            + ' to learn more about interactive tables.';\n",
              "          element.innerHTML = '';\n",
              "          dataTable['output_type'] = 'display_data';\n",
              "          await google.colab.output.renderOutput(dataTable, element);\n",
              "          const docLink = document.createElement('div');\n",
              "          docLink.innerHTML = docLinkHtml;\n",
              "          element.appendChild(docLink);\n",
              "        }\n",
              "      </script>\n",
              "    </div>\n",
              "  </div>\n",
              "  "
            ]
          },
          "metadata": {},
          "execution_count": 2
        }
      ],
      "source": [
        "#import the data:\n",
        "#make sure the path on the line below corresponds to the path where you put your dataset.\n",
        "import pandas as pd\n",
        "import numpy as np\n",
        "path = '/content/drive/MyDrive/Datasets/irisData.csv'\n",
        "iris= pd.read_csv(path)\n",
        "iris.head()"
      ]
    },
    {
      "cell_type": "markdown",
      "metadata": {
        "id": "NxJZDdwWhkaw"
      },
      "source": [
        "## Demo of `copy()` and a DIY `z_score()` function"
      ]
    },
    {
      "cell_type": "code",
      "execution_count": 3,
      "metadata": {
        "id": "CfiCtkZIhkaw"
      },
      "outputs": [],
      "source": [
        "def z_score(columns, data):\n",
        "    \"\"\"\n",
        "    takes in a list of columns to normalize using the z-score method\n",
        "    Params:\n",
        "        columns, a list of columns to normalize\n",
        "        data, the dataframe, preferably a copy\n",
        "    \"\"\"\n",
        "    for col in columns:\n",
        "        #get the mean and std\n",
        "        col_m = data[col].mean()\n",
        "        col_s = data[col].std()\n",
        "        \n",
        "        data[col] = (data[col] - col_m)/col_s"
      ]
    },
    {
      "cell_type": "code",
      "execution_count": 4,
      "metadata": {
        "id": "4fbxwPb5hkax",
        "outputId": "ce6ccf37-9259-4272-e092-e751e3ad10e0",
        "colab": {
          "base_uri": "https://localhost:8080/",
          "height": 206
        }
      },
      "outputs": [
        {
          "output_type": "execute_result",
          "data": {
            "text/plain": [
              "   sepal length  sepal width  petal length  petal width      species\n",
              "0     -0.897674     1.028611     -1.336794    -1.308593  Iris-setosa\n",
              "1     -1.139200    -0.124540     -1.336794    -1.308593  Iris-setosa\n",
              "2     -1.380727     0.336720     -1.393470    -1.308593  Iris-setosa\n",
              "3     -1.501490     0.106090     -1.280118    -1.308593  Iris-setosa\n",
              "4     -1.018437     1.259242     -1.336794    -1.308593  Iris-setosa"
            ],
            "text/html": [
              "\n",
              "  <div id=\"df-fbf00c7c-77c5-4b1a-9db3-f0671a891dac\">\n",
              "    <div class=\"colab-df-container\">\n",
              "      <div>\n",
              "<style scoped>\n",
              "    .dataframe tbody tr th:only-of-type {\n",
              "        vertical-align: middle;\n",
              "    }\n",
              "\n",
              "    .dataframe tbody tr th {\n",
              "        vertical-align: top;\n",
              "    }\n",
              "\n",
              "    .dataframe thead th {\n",
              "        text-align: right;\n",
              "    }\n",
              "</style>\n",
              "<table border=\"1\" class=\"dataframe\">\n",
              "  <thead>\n",
              "    <tr style=\"text-align: right;\">\n",
              "      <th></th>\n",
              "      <th>sepal length</th>\n",
              "      <th>sepal width</th>\n",
              "      <th>petal length</th>\n",
              "      <th>petal width</th>\n",
              "      <th>species</th>\n",
              "    </tr>\n",
              "  </thead>\n",
              "  <tbody>\n",
              "    <tr>\n",
              "      <th>0</th>\n",
              "      <td>-0.897674</td>\n",
              "      <td>1.028611</td>\n",
              "      <td>-1.336794</td>\n",
              "      <td>-1.308593</td>\n",
              "      <td>Iris-setosa</td>\n",
              "    </tr>\n",
              "    <tr>\n",
              "      <th>1</th>\n",
              "      <td>-1.139200</td>\n",
              "      <td>-0.124540</td>\n",
              "      <td>-1.336794</td>\n",
              "      <td>-1.308593</td>\n",
              "      <td>Iris-setosa</td>\n",
              "    </tr>\n",
              "    <tr>\n",
              "      <th>2</th>\n",
              "      <td>-1.380727</td>\n",
              "      <td>0.336720</td>\n",
              "      <td>-1.393470</td>\n",
              "      <td>-1.308593</td>\n",
              "      <td>Iris-setosa</td>\n",
              "    </tr>\n",
              "    <tr>\n",
              "      <th>3</th>\n",
              "      <td>-1.501490</td>\n",
              "      <td>0.106090</td>\n",
              "      <td>-1.280118</td>\n",
              "      <td>-1.308593</td>\n",
              "      <td>Iris-setosa</td>\n",
              "    </tr>\n",
              "    <tr>\n",
              "      <th>4</th>\n",
              "      <td>-1.018437</td>\n",
              "      <td>1.259242</td>\n",
              "      <td>-1.336794</td>\n",
              "      <td>-1.308593</td>\n",
              "      <td>Iris-setosa</td>\n",
              "    </tr>\n",
              "  </tbody>\n",
              "</table>\n",
              "</div>\n",
              "      <button class=\"colab-df-convert\" onclick=\"convertToInteractive('df-fbf00c7c-77c5-4b1a-9db3-f0671a891dac')\"\n",
              "              title=\"Convert this dataframe to an interactive table.\"\n",
              "              style=\"display:none;\">\n",
              "        \n",
              "  <svg xmlns=\"http://www.w3.org/2000/svg\" height=\"24px\"viewBox=\"0 0 24 24\"\n",
              "       width=\"24px\">\n",
              "    <path d=\"M0 0h24v24H0V0z\" fill=\"none\"/>\n",
              "    <path d=\"M18.56 5.44l.94 2.06.94-2.06 2.06-.94-2.06-.94-.94-2.06-.94 2.06-2.06.94zm-11 1L8.5 8.5l.94-2.06 2.06-.94-2.06-.94L8.5 2.5l-.94 2.06-2.06.94zm10 10l.94 2.06.94-2.06 2.06-.94-2.06-.94-.94-2.06-.94 2.06-2.06.94z\"/><path d=\"M17.41 7.96l-1.37-1.37c-.4-.4-.92-.59-1.43-.59-.52 0-1.04.2-1.43.59L10.3 9.45l-7.72 7.72c-.78.78-.78 2.05 0 2.83L4 21.41c.39.39.9.59 1.41.59.51 0 1.02-.2 1.41-.59l7.78-7.78 2.81-2.81c.8-.78.8-2.07 0-2.86zM5.41 20L4 18.59l7.72-7.72 1.47 1.35L5.41 20z\"/>\n",
              "  </svg>\n",
              "      </button>\n",
              "      \n",
              "  <style>\n",
              "    .colab-df-container {\n",
              "      display:flex;\n",
              "      flex-wrap:wrap;\n",
              "      gap: 12px;\n",
              "    }\n",
              "\n",
              "    .colab-df-convert {\n",
              "      background-color: #E8F0FE;\n",
              "      border: none;\n",
              "      border-radius: 50%;\n",
              "      cursor: pointer;\n",
              "      display: none;\n",
              "      fill: #1967D2;\n",
              "      height: 32px;\n",
              "      padding: 0 0 0 0;\n",
              "      width: 32px;\n",
              "    }\n",
              "\n",
              "    .colab-df-convert:hover {\n",
              "      background-color: #E2EBFA;\n",
              "      box-shadow: 0px 1px 2px rgba(60, 64, 67, 0.3), 0px 1px 3px 1px rgba(60, 64, 67, 0.15);\n",
              "      fill: #174EA6;\n",
              "    }\n",
              "\n",
              "    [theme=dark] .colab-df-convert {\n",
              "      background-color: #3B4455;\n",
              "      fill: #D2E3FC;\n",
              "    }\n",
              "\n",
              "    [theme=dark] .colab-df-convert:hover {\n",
              "      background-color: #434B5C;\n",
              "      box-shadow: 0px 1px 3px 1px rgba(0, 0, 0, 0.15);\n",
              "      filter: drop-shadow(0px 1px 2px rgba(0, 0, 0, 0.3));\n",
              "      fill: #FFFFFF;\n",
              "    }\n",
              "  </style>\n",
              "\n",
              "      <script>\n",
              "        const buttonEl =\n",
              "          document.querySelector('#df-fbf00c7c-77c5-4b1a-9db3-f0671a891dac button.colab-df-convert');\n",
              "        buttonEl.style.display =\n",
              "          google.colab.kernel.accessAllowed ? 'block' : 'none';\n",
              "\n",
              "        async function convertToInteractive(key) {\n",
              "          const element = document.querySelector('#df-fbf00c7c-77c5-4b1a-9db3-f0671a891dac');\n",
              "          const dataTable =\n",
              "            await google.colab.kernel.invokeFunction('convertToInteractive',\n",
              "                                                     [key], {});\n",
              "          if (!dataTable) return;\n",
              "\n",
              "          const docLinkHtml = 'Like what you see? Visit the ' +\n",
              "            '<a target=\"_blank\" href=https://colab.research.google.com/notebooks/data_table.ipynb>data table notebook</a>'\n",
              "            + ' to learn more about interactive tables.';\n",
              "          element.innerHTML = '';\n",
              "          dataTable['output_type'] = 'display_data';\n",
              "          await google.colab.output.renderOutput(dataTable, element);\n",
              "          const docLink = document.createElement('div');\n",
              "          docLink.innerHTML = docLinkHtml;\n",
              "          element.appendChild(docLink);\n",
              "        }\n",
              "      </script>\n",
              "    </div>\n",
              "  </div>\n",
              "  "
            ]
          },
          "metadata": {},
          "execution_count": 4
        }
      ],
      "source": [
        "iris_norm = iris.copy()\n",
        "z_score(['sepal length', 'sepal width', 'petal width', 'petal length'], iris_norm)\n",
        "iris_norm.head()"
      ]
    },
    {
      "cell_type": "markdown",
      "metadata": {
        "id": "uLTppxDGhkax"
      },
      "source": [
        "# Quick Review:"
      ]
    },
    {
      "cell_type": "markdown",
      "metadata": {
        "id": "8voOkk4Zhkay"
      },
      "source": [
        "## Machine Learning Variations\n",
        "\n",
        "We are going to learn about a lot of different types of machine learning in CS167. Here are a few categories to look out for: \n",
        "- __classifcation__: identify which category it goes in. Examples: Spam or ham? Eric or Tim? Fish, amphibian, reptile, bird, or mammal\n",
        "- __regression__: real-valued labels. Examples: price of Bitcoin, tomorrow's temperature, etc.\n",
        "- __supervised learning__: data has labels, goal is to predict the labels of new instance. \n",
        "- __unsupervised learning__: data does not have a label, the goal is to analyze/cluster the examples. \n",
        "- __other issues__: missing data, sequential data, outlier anomaly detetion, and many more. "
      ]
    },
    {
      "cell_type": "markdown",
      "metadata": {
        "id": "yK6DXYLchkay"
      },
      "source": [
        "## 🚨 Terminology Alert 🚨\n",
        "Each row in the table represents a __training example__, a previously-seen, known instance of the thing we are trying to model. \n",
        "\n",
        "Each column in the table represents a __feature__, some attribute or variable that each training example has a value for. \n",
        "\n",
        "__Target variable__: the 'feature' we will try to predict(e.g. species)--it's value is unkonwn for any new cases not in the training data.\n",
        "\n",
        "__Predictor variables__: (or just predictors), the features that will be used to make predictions of the target variable. (e.g. `sepal length`, `petal length`, `sepal width`, `petal width`"
      ]
    },
    {
      "cell_type": "markdown",
      "metadata": {
        "id": "r2vXsshWhkay"
      },
      "source": [
        "__k-Nearest-Neighbor Algorihm__: Predict the _most commonly appearing_ class among the __k__ closest training examples."
      ]
    },
    {
      "cell_type": "markdown",
      "metadata": {
        "id": "0lzc9xTnhkaz"
      },
      "source": [
        "## 3-Nearest-Neighbor Algorithm\n",
        "\n",
        "> Wait... why did we skip 2-NN?\n",
        "\n",
        "### What will a 3NN algorithm predict?\n",
        "\n",
        "<div>\n",
        "<img src=\"https://github.com/merriekay/j23_cs167_notes/blob/main/images/day03_3NN_iris.png?raw=1\" width=450/>\n",
        "</div>"
      ]
    },
    {
      "cell_type": "markdown",
      "metadata": {
        "id": "hB_Oc5Wuhkaz"
      },
      "source": [
        "# Remember our kNN function?"
      ]
    },
    {
      "cell_type": "code",
      "execution_count": 5,
      "metadata": {
        "id": "GX9LL6O2hkaz"
      },
      "outputs": [],
      "source": [
        "def kNN(specimen, data, k):\n",
        "    # write your code in here to make this function work\n",
        "    # 1. calculate distances\n",
        "    data['distance_to_new'] = np.sqrt(\n",
        "    (specimen['petal length'] - data['petal length'])**2 \n",
        "    +(specimen['sepal length'] - data['sepal length'])**2 \n",
        "    +(specimen['petal width'] - data['petal width'])**2\n",
        "    +(specimen['sepal width'] - data['sepal width'])**2)\n",
        "\n",
        "    # 2. sort\n",
        "    data.sort_values(['distance_to_new'], inplace=True)\n",
        "    \n",
        "    # 3. predict\n",
        "    prediction = data.iloc[0:k]['species'].mode()\n",
        "\n",
        "    return prediction"
      ]
    },
    {
      "cell_type": "code",
      "execution_count": 6,
      "metadata": {
        "id": "luneVHFxhkaz",
        "outputId": "83c38479-5b09-4af3-df7d-fad33679c884",
        "colab": {
          "base_uri": "https://localhost:8080/"
        }
      },
      "outputs": [
        {
          "output_type": "execute_result",
          "data": {
            "text/plain": [
              "0    Iris-versicolor\n",
              "dtype: object"
            ]
          },
          "metadata": {},
          "execution_count": 6
        }
      ],
      "source": [
        "new_iris = {}\n",
        "new_iris['petal length'] = 5.1\n",
        "new_iris['sepal length'] = 7.2\n",
        "new_iris['petal width'] = 1.5\n",
        "new_iris['sepal width'] = 2.5\n",
        "\n",
        "kNN(new_iris, iris, 15)"
      ]
    },
    {
      "cell_type": "markdown",
      "metadata": {
        "id": "q51oPVxwhka0"
      },
      "source": [
        "## kNN for Regression?\n",
        "\n",
        "The only thing we need to change if our target variable is a real-valued number (continuous) is that rather than taking the `mode()` of the __k__ closest neighbors, we will take the `mean()` of the k closest neighbors."
      ]
    },
    {
      "cell_type": "markdown",
      "metadata": {
        "id": "v9I0COxQhka0"
      },
      "source": [
        "# ✨ New Material"
      ]
    },
    {
      "cell_type": "markdown",
      "metadata": {
        "id": "wEPo8Gochka0"
      },
      "source": [
        "## Are all neighbors created equal?\n",
        "\n",
        "The way we've learned kNN so far, each neighbor gets an equal vote in the decision of what to predict.\n",
        "\n",
        "Do we see any problems with this? If so, what?"
      ]
    },
    {
      "cell_type": "markdown",
      "metadata": {
        "id": "Bp2KFRuVhka0"
      },
      "source": [
        "<div>\n",
        "<img src=\"https://github.com/merriekay/j23_cs167_notes/blob/main/images/day04_wknn_motivation.png?raw=1\" width = 500/>\n",
        "</div>"
      ]
    },
    {
      "cell_type": "markdown",
      "metadata": {
        "id": "CRV_DDvxhka0"
      },
      "source": [
        "Should neighbors that are closer to the new instance get a larger share of the vote?"
      ]
    },
    {
      "cell_type": "markdown",
      "metadata": {
        "id": "W0ztSL2Ehka1"
      },
      "source": [
        "# Weighted k-NNN Intuition:\n",
        "\n",
        "In weighted kNN, the nearest k points are given a weight, and the weights are grouped by the target variable. The class with the largest sum of weights will be the class that is predicted. \n",
        "\n",
        "The intuition is to give more weight to the points that are nearby and less weight to the points that are farther away.\n",
        "- distance-weighted voting"
      ]
    },
    {
      "cell_type": "markdown",
      "metadata": {
        "id": "LTqnfCn2hka1"
      },
      "source": [
        "In w-kNN, we want to predict the target variable with the most weight, where the weight is defined by the inverse distance function.\n",
        "\n",
        "## $w_{q,i} = \\frac{1}{d(x_q, x_i)^2}$\n",
        "\n",
        "> In English, you can read that as the __weight__ of a traning example is equal to 1 divided by the distance between the new instance and the traning example squared."
      ]
    },
    {
      "cell_type": "markdown",
      "metadata": {
        "id": "bCWZhD2Ihka1"
      },
      "source": [
        "## A w-kNN Example: Step 1\n",
        "\n",
        "Start by calculating the distance between the new example ('X'), and each of the other training examples:\n",
        "\n",
        "<div>\n",
        "<img src=\"https://github.com/merriekay/j23_cs167_notes/blob/main/images/day04_wknn_ex.png?raw=1\"/>\n",
        "</div>"
      ]
    },
    {
      "cell_type": "markdown",
      "metadata": {
        "id": "ZjUFe0VKhka1"
      },
      "source": [
        "## A w-kNN Example: Step 2\n",
        "\n",
        "Then, __calculate the weight___ of each training example using the inverse distance squared.\n",
        "\n",
        "<div>\n",
        "<img src=\"https://github.com/merriekay/j23_cs167_notes/blob/main/images/day04_wknn_ex1.png?raw=1\"/>\n",
        "</div>"
      ]
    },
    {
      "cell_type": "markdown",
      "metadata": {
        "id": "lA0frxqVhka1"
      },
      "source": [
        "## A w-kNN Example: Step 3\n",
        "\n",
        "Find the k closest neighbors--let's assume `k=3` for this example: \n",
        "<div>\n",
        "<img src=\"https://github.com/merriekay/j23_cs167_notes/blob/main/images/day04_wknn_ex2.png?raw=1\"/>\n",
        "</div>"
      ]
    },
    {
      "cell_type": "markdown",
      "metadata": {
        "id": "EKCCJRd7hka1"
      },
      "source": [
        "Then, sum the weights for each possible class: \n",
        "- __orange__: $1$\n",
        "- __blue__: $1/16 + 1/9 = 0.115$\n",
        "\n",
        "### What would a __normal 3NN__ predict? Weighted 3NN?"
      ]
    },
    {
      "cell_type": "markdown",
      "metadata": {
        "id": "s_VxmLj8hka1"
      },
      "source": [
        "## Let's write some code: \n",
        "\n",
        "Write a new function `weighted_kNN()`\n",
        "\n",
        "Pass the iris measurements (specimen), data frame, and k as parameters and return the precited class."
      ]
    },
    {
      "cell_type": "code",
      "execution_count": 41,
      "metadata": {
        "id": "JjMhK354hka2"
      },
      "outputs": [],
      "source": [
        "def w_knn(specimen, data, k):\n",
        "    #calculate the distance\n",
        "    data['dist_to_new'] = np.sqrt(\n",
        "    (specimen['petal length'] - data['petal length'])**2 \n",
        "    +(specimen['sepal length'] - data['sepal length'])**2 \n",
        "    +(specimen['petal width'] - data['petal width'])**2\n",
        "    +(specimen['sepal width'] - data['sepal width'])**2)\n",
        "\n",
        "    # calculate the weights (remember, weights are 1/d^2)\n",
        "    data['weight'] = 1/(data['dist_to_new']**2)\n",
        "\n",
        "    # find the k closest neighbors\n",
        "    data.sort_values(['dist_to_new'], inplace=True)\n",
        "    neighbors = data.iloc[0:k]\n",
        "\n",
        "    # use groupby to sum the weights of each species in the closest k\n",
        "    results = neighbors.groupby(['species']).weight.sum()\n",
        "    return(results.idxmax(), results.iloc[0])\n",
        "    #return the class that has the largest sum of weight.\n"
      ]
    },
    {
      "cell_type": "code",
      "execution_count": 23,
      "metadata": {
        "id": "MFDS7PyVhka2",
        "colab": {
          "base_uri": "https://localhost:8080/"
        },
        "outputId": "72b55698-4e44-4c05-fec7-51933550a20f"
      },
      "outputs": [
        {
          "output_type": "stream",
          "name": "stdout",
          "text": [
            "Iris-versicolor 13.05927149570631\n"
          ]
        }
      ],
      "source": [
        "new_iris = {}\n",
        "new_iris['petal length'] = 5.1\n",
        "new_iris['sepal length'] = 7.2\n",
        "new_iris['petal width'] = 1.5\n",
        "new_iris['sepal width'] = 2.5\n",
        "\n",
        "w_knn(new_iris, iris, 15)\n",
        "#new_iris['petal length']"
      ]
    },
    {
      "cell_type": "markdown",
      "metadata": {
        "id": "TeXL8MsLhka2"
      },
      "source": [
        "## Exercises:\n",
        "\n",
        "Normalize each of the predictor columns in the iris dataset\n",
        "\n",
        ">__Note__: you need a way to transform the new reading (the specimen) that you will make the prediction on so that the new one and the training data will all be on the same scale. How can you do that?\n",
        "\n",
        "Repeat your k-NN prediction code for the normalized data.\n",
        "- Does the value of k change the predictions? \n",
        "    - compare using `k=3`, and `k=5` on each method (normalized and non-normalized), (weighted and unweighted)"
      ]
    },
    {
      "cell_type": "markdown",
      "metadata": {
        "id": "5QMr67Fkhka2"
      },
      "source": [
        "## Use these tables to keep track of your predictions:\n",
        "### `k=3`\n",
        "|                    | **not normalized** | **normalized** |\n",
        "|--------------------|--------------------|----------------|\n",
        "| **unweighted kNN** |                    |                |\n",
        "| **weighted kNN**   |                    |                |\n",
        "\n",
        "## `k=5`\n",
        "\n",
        "|                    | **not normalized** | **normalized** |\n",
        "|--------------------|--------------------|----------------|\n",
        "| **unweighted kNN** |                    |                |\n",
        "| **weighted kNN**   |                    |                |"
      ]
    },
    {
      "cell_type": "code",
      "source": [
        "#Normalized\n",
        "def z_score(columns, data):\n",
        "    for col in columns:\n",
        "        #get the mean and std\n",
        "        col_m = data[col].mean()\n",
        "        col_s = data[col].std()\n",
        "        \n",
        "        data[col] = (data[col] - col_m)/col_s"
      ],
      "metadata": {
        "id": "r5a9F5Moxe0r"
      },
      "execution_count": 24,
      "outputs": []
    },
    {
      "cell_type": "code",
      "source": [
        "iris_norm = iris.copy()\n",
        "z_score(['sepal length', 'sepal width', 'petal width', 'petal length'], iris_norm)\n",
        "iris_norm.head()"
      ],
      "metadata": {
        "colab": {
          "base_uri": "https://localhost:8080/",
          "height": 206
        },
        "id": "fnDt4y35xndn",
        "outputId": "7f24d860-a370-4f57-a71a-c4342d757a10"
      },
      "execution_count": 27,
      "outputs": [
        {
          "output_type": "execute_result",
          "data": {
            "text/plain": [
              "     sepal length  sepal width  petal length  petal width          species  \\\n",
              "76       1.155302    -0.585801      0.590184     0.263815  Iris-versicolor   \n",
              "52       1.276066     0.106090      0.646860     0.394849  Iris-versicolor   \n",
              "77       1.034539    -0.124540      0.703536     0.656917  Iris-versicolor   \n",
              "50       1.396829     0.336720      0.533509     0.263815  Iris-versicolor   \n",
              "129      1.638355    -0.124540      1.156943     0.525883   Iris-virginica   \n",
              "\n",
              "     distance_to_new  dist_to_new    weight  \n",
              "76          0.591608     0.591608  2.857143  \n",
              "52          0.700000     0.700000  2.040816  \n",
              "77          0.741620     0.741620  1.818182  \n",
              "50          0.836660     0.836660  1.428571  \n",
              "129         0.866025     0.866025  1.333333  "
            ],
            "text/html": [
              "\n",
              "  <div id=\"df-edef8ffe-0c91-4f9f-9152-7e820dc65922\">\n",
              "    <div class=\"colab-df-container\">\n",
              "      <div>\n",
              "<style scoped>\n",
              "    .dataframe tbody tr th:only-of-type {\n",
              "        vertical-align: middle;\n",
              "    }\n",
              "\n",
              "    .dataframe tbody tr th {\n",
              "        vertical-align: top;\n",
              "    }\n",
              "\n",
              "    .dataframe thead th {\n",
              "        text-align: right;\n",
              "    }\n",
              "</style>\n",
              "<table border=\"1\" class=\"dataframe\">\n",
              "  <thead>\n",
              "    <tr style=\"text-align: right;\">\n",
              "      <th></th>\n",
              "      <th>sepal length</th>\n",
              "      <th>sepal width</th>\n",
              "      <th>petal length</th>\n",
              "      <th>petal width</th>\n",
              "      <th>species</th>\n",
              "      <th>distance_to_new</th>\n",
              "      <th>dist_to_new</th>\n",
              "      <th>weight</th>\n",
              "    </tr>\n",
              "  </thead>\n",
              "  <tbody>\n",
              "    <tr>\n",
              "      <th>76</th>\n",
              "      <td>1.155302</td>\n",
              "      <td>-0.585801</td>\n",
              "      <td>0.590184</td>\n",
              "      <td>0.263815</td>\n",
              "      <td>Iris-versicolor</td>\n",
              "      <td>0.591608</td>\n",
              "      <td>0.591608</td>\n",
              "      <td>2.857143</td>\n",
              "    </tr>\n",
              "    <tr>\n",
              "      <th>52</th>\n",
              "      <td>1.276066</td>\n",
              "      <td>0.106090</td>\n",
              "      <td>0.646860</td>\n",
              "      <td>0.394849</td>\n",
              "      <td>Iris-versicolor</td>\n",
              "      <td>0.700000</td>\n",
              "      <td>0.700000</td>\n",
              "      <td>2.040816</td>\n",
              "    </tr>\n",
              "    <tr>\n",
              "      <th>77</th>\n",
              "      <td>1.034539</td>\n",
              "      <td>-0.124540</td>\n",
              "      <td>0.703536</td>\n",
              "      <td>0.656917</td>\n",
              "      <td>Iris-versicolor</td>\n",
              "      <td>0.741620</td>\n",
              "      <td>0.741620</td>\n",
              "      <td>1.818182</td>\n",
              "    </tr>\n",
              "    <tr>\n",
              "      <th>50</th>\n",
              "      <td>1.396829</td>\n",
              "      <td>0.336720</td>\n",
              "      <td>0.533509</td>\n",
              "      <td>0.263815</td>\n",
              "      <td>Iris-versicolor</td>\n",
              "      <td>0.836660</td>\n",
              "      <td>0.836660</td>\n",
              "      <td>1.428571</td>\n",
              "    </tr>\n",
              "    <tr>\n",
              "      <th>129</th>\n",
              "      <td>1.638355</td>\n",
              "      <td>-0.124540</td>\n",
              "      <td>1.156943</td>\n",
              "      <td>0.525883</td>\n",
              "      <td>Iris-virginica</td>\n",
              "      <td>0.866025</td>\n",
              "      <td>0.866025</td>\n",
              "      <td>1.333333</td>\n",
              "    </tr>\n",
              "  </tbody>\n",
              "</table>\n",
              "</div>\n",
              "      <button class=\"colab-df-convert\" onclick=\"convertToInteractive('df-edef8ffe-0c91-4f9f-9152-7e820dc65922')\"\n",
              "              title=\"Convert this dataframe to an interactive table.\"\n",
              "              style=\"display:none;\">\n",
              "        \n",
              "  <svg xmlns=\"http://www.w3.org/2000/svg\" height=\"24px\"viewBox=\"0 0 24 24\"\n",
              "       width=\"24px\">\n",
              "    <path d=\"M0 0h24v24H0V0z\" fill=\"none\"/>\n",
              "    <path d=\"M18.56 5.44l.94 2.06.94-2.06 2.06-.94-2.06-.94-.94-2.06-.94 2.06-2.06.94zm-11 1L8.5 8.5l.94-2.06 2.06-.94-2.06-.94L8.5 2.5l-.94 2.06-2.06.94zm10 10l.94 2.06.94-2.06 2.06-.94-2.06-.94-.94-2.06-.94 2.06-2.06.94z\"/><path d=\"M17.41 7.96l-1.37-1.37c-.4-.4-.92-.59-1.43-.59-.52 0-1.04.2-1.43.59L10.3 9.45l-7.72 7.72c-.78.78-.78 2.05 0 2.83L4 21.41c.39.39.9.59 1.41.59.51 0 1.02-.2 1.41-.59l7.78-7.78 2.81-2.81c.8-.78.8-2.07 0-2.86zM5.41 20L4 18.59l7.72-7.72 1.47 1.35L5.41 20z\"/>\n",
              "  </svg>\n",
              "      </button>\n",
              "      \n",
              "  <style>\n",
              "    .colab-df-container {\n",
              "      display:flex;\n",
              "      flex-wrap:wrap;\n",
              "      gap: 12px;\n",
              "    }\n",
              "\n",
              "    .colab-df-convert {\n",
              "      background-color: #E8F0FE;\n",
              "      border: none;\n",
              "      border-radius: 50%;\n",
              "      cursor: pointer;\n",
              "      display: none;\n",
              "      fill: #1967D2;\n",
              "      height: 32px;\n",
              "      padding: 0 0 0 0;\n",
              "      width: 32px;\n",
              "    }\n",
              "\n",
              "    .colab-df-convert:hover {\n",
              "      background-color: #E2EBFA;\n",
              "      box-shadow: 0px 1px 2px rgba(60, 64, 67, 0.3), 0px 1px 3px 1px rgba(60, 64, 67, 0.15);\n",
              "      fill: #174EA6;\n",
              "    }\n",
              "\n",
              "    [theme=dark] .colab-df-convert {\n",
              "      background-color: #3B4455;\n",
              "      fill: #D2E3FC;\n",
              "    }\n",
              "\n",
              "    [theme=dark] .colab-df-convert:hover {\n",
              "      background-color: #434B5C;\n",
              "      box-shadow: 0px 1px 3px 1px rgba(0, 0, 0, 0.15);\n",
              "      filter: drop-shadow(0px 1px 2px rgba(0, 0, 0, 0.3));\n",
              "      fill: #FFFFFF;\n",
              "    }\n",
              "  </style>\n",
              "\n",
              "      <script>\n",
              "        const buttonEl =\n",
              "          document.querySelector('#df-edef8ffe-0c91-4f9f-9152-7e820dc65922 button.colab-df-convert');\n",
              "        buttonEl.style.display =\n",
              "          google.colab.kernel.accessAllowed ? 'block' : 'none';\n",
              "\n",
              "        async function convertToInteractive(key) {\n",
              "          const element = document.querySelector('#df-edef8ffe-0c91-4f9f-9152-7e820dc65922');\n",
              "          const dataTable =\n",
              "            await google.colab.kernel.invokeFunction('convertToInteractive',\n",
              "                                                     [key], {});\n",
              "          if (!dataTable) return;\n",
              "\n",
              "          const docLinkHtml = 'Like what you see? Visit the ' +\n",
              "            '<a target=\"_blank\" href=https://colab.research.google.com/notebooks/data_table.ipynb>data table notebook</a>'\n",
              "            + ' to learn more about interactive tables.';\n",
              "          element.innerHTML = '';\n",
              "          dataTable['output_type'] = 'display_data';\n",
              "          await google.colab.output.renderOutput(dataTable, element);\n",
              "          const docLink = document.createElement('div');\n",
              "          docLink.innerHTML = docLinkHtml;\n",
              "          element.appendChild(docLink);\n",
              "        }\n",
              "      </script>\n",
              "    </div>\n",
              "  </div>\n",
              "  "
            ]
          },
          "metadata": {},
          "execution_count": 27
        }
      ]
    },
    {
      "cell_type": "code",
      "source": [
        "#Non-Normalized\n",
        "iris.head()"
      ],
      "metadata": {
        "colab": {
          "base_uri": "https://localhost:8080/",
          "height": 206
        },
        "id": "Po3uV40NyRjX",
        "outputId": "8d620abb-532e-4c03-ea8e-37d498c00961"
      },
      "execution_count": 28,
      "outputs": [
        {
          "output_type": "execute_result",
          "data": {
            "text/plain": [
              "     sepal length  sepal width  petal length  petal width          species  \\\n",
              "76            6.8          2.8           4.8          1.4  Iris-versicolor   \n",
              "52            6.9          3.1           4.9          1.5  Iris-versicolor   \n",
              "77            6.7          3.0           5.0          1.7  Iris-versicolor   \n",
              "50            7.0          3.2           4.7          1.4  Iris-versicolor   \n",
              "129           7.2          3.0           5.8          1.6   Iris-virginica   \n",
              "\n",
              "     distance_to_new  dist_to_new    weight  \n",
              "76          0.591608     0.591608  2.857143  \n",
              "52          0.700000     0.700000  2.040816  \n",
              "77          0.741620     0.741620  1.818182  \n",
              "50          0.836660     0.836660  1.428571  \n",
              "129         0.866025     0.866025  1.333333  "
            ],
            "text/html": [
              "\n",
              "  <div id=\"df-e9baaa5b-7b53-4e0b-9f65-88885a47bea7\">\n",
              "    <div class=\"colab-df-container\">\n",
              "      <div>\n",
              "<style scoped>\n",
              "    .dataframe tbody tr th:only-of-type {\n",
              "        vertical-align: middle;\n",
              "    }\n",
              "\n",
              "    .dataframe tbody tr th {\n",
              "        vertical-align: top;\n",
              "    }\n",
              "\n",
              "    .dataframe thead th {\n",
              "        text-align: right;\n",
              "    }\n",
              "</style>\n",
              "<table border=\"1\" class=\"dataframe\">\n",
              "  <thead>\n",
              "    <tr style=\"text-align: right;\">\n",
              "      <th></th>\n",
              "      <th>sepal length</th>\n",
              "      <th>sepal width</th>\n",
              "      <th>petal length</th>\n",
              "      <th>petal width</th>\n",
              "      <th>species</th>\n",
              "      <th>distance_to_new</th>\n",
              "      <th>dist_to_new</th>\n",
              "      <th>weight</th>\n",
              "    </tr>\n",
              "  </thead>\n",
              "  <tbody>\n",
              "    <tr>\n",
              "      <th>76</th>\n",
              "      <td>6.8</td>\n",
              "      <td>2.8</td>\n",
              "      <td>4.8</td>\n",
              "      <td>1.4</td>\n",
              "      <td>Iris-versicolor</td>\n",
              "      <td>0.591608</td>\n",
              "      <td>0.591608</td>\n",
              "      <td>2.857143</td>\n",
              "    </tr>\n",
              "    <tr>\n",
              "      <th>52</th>\n",
              "      <td>6.9</td>\n",
              "      <td>3.1</td>\n",
              "      <td>4.9</td>\n",
              "      <td>1.5</td>\n",
              "      <td>Iris-versicolor</td>\n",
              "      <td>0.700000</td>\n",
              "      <td>0.700000</td>\n",
              "      <td>2.040816</td>\n",
              "    </tr>\n",
              "    <tr>\n",
              "      <th>77</th>\n",
              "      <td>6.7</td>\n",
              "      <td>3.0</td>\n",
              "      <td>5.0</td>\n",
              "      <td>1.7</td>\n",
              "      <td>Iris-versicolor</td>\n",
              "      <td>0.741620</td>\n",
              "      <td>0.741620</td>\n",
              "      <td>1.818182</td>\n",
              "    </tr>\n",
              "    <tr>\n",
              "      <th>50</th>\n",
              "      <td>7.0</td>\n",
              "      <td>3.2</td>\n",
              "      <td>4.7</td>\n",
              "      <td>1.4</td>\n",
              "      <td>Iris-versicolor</td>\n",
              "      <td>0.836660</td>\n",
              "      <td>0.836660</td>\n",
              "      <td>1.428571</td>\n",
              "    </tr>\n",
              "    <tr>\n",
              "      <th>129</th>\n",
              "      <td>7.2</td>\n",
              "      <td>3.0</td>\n",
              "      <td>5.8</td>\n",
              "      <td>1.6</td>\n",
              "      <td>Iris-virginica</td>\n",
              "      <td>0.866025</td>\n",
              "      <td>0.866025</td>\n",
              "      <td>1.333333</td>\n",
              "    </tr>\n",
              "  </tbody>\n",
              "</table>\n",
              "</div>\n",
              "      <button class=\"colab-df-convert\" onclick=\"convertToInteractive('df-e9baaa5b-7b53-4e0b-9f65-88885a47bea7')\"\n",
              "              title=\"Convert this dataframe to an interactive table.\"\n",
              "              style=\"display:none;\">\n",
              "        \n",
              "  <svg xmlns=\"http://www.w3.org/2000/svg\" height=\"24px\"viewBox=\"0 0 24 24\"\n",
              "       width=\"24px\">\n",
              "    <path d=\"M0 0h24v24H0V0z\" fill=\"none\"/>\n",
              "    <path d=\"M18.56 5.44l.94 2.06.94-2.06 2.06-.94-2.06-.94-.94-2.06-.94 2.06-2.06.94zm-11 1L8.5 8.5l.94-2.06 2.06-.94-2.06-.94L8.5 2.5l-.94 2.06-2.06.94zm10 10l.94 2.06.94-2.06 2.06-.94-2.06-.94-.94-2.06-.94 2.06-2.06.94z\"/><path d=\"M17.41 7.96l-1.37-1.37c-.4-.4-.92-.59-1.43-.59-.52 0-1.04.2-1.43.59L10.3 9.45l-7.72 7.72c-.78.78-.78 2.05 0 2.83L4 21.41c.39.39.9.59 1.41.59.51 0 1.02-.2 1.41-.59l7.78-7.78 2.81-2.81c.8-.78.8-2.07 0-2.86zM5.41 20L4 18.59l7.72-7.72 1.47 1.35L5.41 20z\"/>\n",
              "  </svg>\n",
              "      </button>\n",
              "      \n",
              "  <style>\n",
              "    .colab-df-container {\n",
              "      display:flex;\n",
              "      flex-wrap:wrap;\n",
              "      gap: 12px;\n",
              "    }\n",
              "\n",
              "    .colab-df-convert {\n",
              "      background-color: #E8F0FE;\n",
              "      border: none;\n",
              "      border-radius: 50%;\n",
              "      cursor: pointer;\n",
              "      display: none;\n",
              "      fill: #1967D2;\n",
              "      height: 32px;\n",
              "      padding: 0 0 0 0;\n",
              "      width: 32px;\n",
              "    }\n",
              "\n",
              "    .colab-df-convert:hover {\n",
              "      background-color: #E2EBFA;\n",
              "      box-shadow: 0px 1px 2px rgba(60, 64, 67, 0.3), 0px 1px 3px 1px rgba(60, 64, 67, 0.15);\n",
              "      fill: #174EA6;\n",
              "    }\n",
              "\n",
              "    [theme=dark] .colab-df-convert {\n",
              "      background-color: #3B4455;\n",
              "      fill: #D2E3FC;\n",
              "    }\n",
              "\n",
              "    [theme=dark] .colab-df-convert:hover {\n",
              "      background-color: #434B5C;\n",
              "      box-shadow: 0px 1px 3px 1px rgba(0, 0, 0, 0.15);\n",
              "      filter: drop-shadow(0px 1px 2px rgba(0, 0, 0, 0.3));\n",
              "      fill: #FFFFFF;\n",
              "    }\n",
              "  </style>\n",
              "\n",
              "      <script>\n",
              "        const buttonEl =\n",
              "          document.querySelector('#df-e9baaa5b-7b53-4e0b-9f65-88885a47bea7 button.colab-df-convert');\n",
              "        buttonEl.style.display =\n",
              "          google.colab.kernel.accessAllowed ? 'block' : 'none';\n",
              "\n",
              "        async function convertToInteractive(key) {\n",
              "          const element = document.querySelector('#df-e9baaa5b-7b53-4e0b-9f65-88885a47bea7');\n",
              "          const dataTable =\n",
              "            await google.colab.kernel.invokeFunction('convertToInteractive',\n",
              "                                                     [key], {});\n",
              "          if (!dataTable) return;\n",
              "\n",
              "          const docLinkHtml = 'Like what you see? Visit the ' +\n",
              "            '<a target=\"_blank\" href=https://colab.research.google.com/notebooks/data_table.ipynb>data table notebook</a>'\n",
              "            + ' to learn more about interactive tables.';\n",
              "          element.innerHTML = '';\n",
              "          dataTable['output_type'] = 'display_data';\n",
              "          await google.colab.output.renderOutput(dataTable, element);\n",
              "          const docLink = document.createElement('div');\n",
              "          docLink.innerHTML = docLinkHtml;\n",
              "          element.appendChild(docLink);\n",
              "        }\n",
              "      </script>\n",
              "    </div>\n",
              "  </div>\n",
              "  "
            ]
          },
          "metadata": {},
          "execution_count": 28
        }
      ]
    },
    {
      "cell_type": "code",
      "source": [
        "#New Iris Normalized\n",
        "pl_mean = iris['petal length'].mean()\n",
        "pl_std = iris['petal length'].std()\n",
        "pw_mean = iris['petal width'].mean()\n",
        "pw_std = iris['petal width'].std()\n",
        "sl_mean = iris['sepal length'].mean()\n",
        "sl_std = iris['sepal length'].std()\n",
        "sw_mean = iris['sepal width'].mean()\n",
        "sw_std = iris['sepal width'].std()\n",
        "\n",
        "new_iris_norm = {}\n",
        "\n",
        "new_iris_norm['petal length'] = (new_iris['petal length']-pl_mean)/pl_std\n",
        "new_iris_norm['petal width'] = (new_iris['petal width']-pw_mean)/pw_std\n",
        "new_iris_norm['sepal length'] = (new_iris['sepal length']-sl_mean)/sl_std\n",
        "new_iris_norm['sepal width'] = (new_iris['sepal width']-sw_mean)/sw_std"
      ],
      "metadata": {
        "id": "PB9wj3rVz8hR"
      },
      "execution_count": 33,
      "outputs": []
    },
    {
      "cell_type": "code",
      "source": [
        "# K = 3\n",
        "#Not Normalized & unweighted\n",
        "print(\"Not Normalized & unweighted: \", kNN(new_iris, iris, 3))\n",
        "#Not Normalized & Weighted\n",
        "print(\"Not Normalized & weighted: \", w_knn(new_iris, iris, 3))\n",
        "#Normalized & Unweighted\n",
        "print(\"Normalized & unweighted: \", kNN(new_iris_norm, iris_norm, 3))\n",
        "#Normalized & Weighted\n",
        "print(\"Normalized & weighted: \", w_knn(new_iris_norm, iris_norm, 3))"
      ],
      "metadata": {
        "colab": {
          "base_uri": "https://localhost:8080/"
        },
        "id": "68wctyuaydIl",
        "outputId": "5987e5f2-c5cf-48ff-99bb-7092ff1c9ea6"
      },
      "execution_count": 42,
      "outputs": [
        {
          "output_type": "stream",
          "name": "stdout",
          "text": [
            "Not Normalized & unweighted:  0    Iris-versicolor\n",
            "dtype: object\n",
            "Not Normalized & weighted:  ('Iris-versicolor', 6.716141001855288)\n",
            "Normalized & unweighted:  0    Iris-virginica\n",
            "dtype: object\n",
            "Normalized & weighted:  ('Iris-virginica', 1.3190301007326806)\n"
          ]
        }
      ]
    },
    {
      "cell_type": "code",
      "source": [
        "iris.head()"
      ],
      "metadata": {
        "colab": {
          "base_uri": "https://localhost:8080/",
          "height": 206
        },
        "id": "qx9ZPalZ3XP9",
        "outputId": "492f6e92-555c-4313-cbc8-2cff92aa21c3"
      },
      "execution_count": 37,
      "outputs": [
        {
          "output_type": "execute_result",
          "data": {
            "text/plain": [
              "     sepal length  sepal width  petal length  petal width          species  \\\n",
              "76            6.8          2.8           4.8          1.4  Iris-versicolor   \n",
              "52            6.9          3.1           4.9          1.5  Iris-versicolor   \n",
              "77            6.7          3.0           5.0          1.7  Iris-versicolor   \n",
              "50            7.0          3.2           4.7          1.4  Iris-versicolor   \n",
              "129           7.2          3.0           5.8          1.6   Iris-virginica   \n",
              "\n",
              "     distance_to_new  dist_to_new    weight  \n",
              "76          0.591608     0.591608  2.857143  \n",
              "52          0.700000     0.700000  2.040816  \n",
              "77          0.741620     0.741620  1.818182  \n",
              "50          0.836660     0.836660  1.428571  \n",
              "129         0.866025     0.866025  1.333333  "
            ],
            "text/html": [
              "\n",
              "  <div id=\"df-5800379d-20bb-4d2e-bc0f-acd8dfc0cc43\">\n",
              "    <div class=\"colab-df-container\">\n",
              "      <div>\n",
              "<style scoped>\n",
              "    .dataframe tbody tr th:only-of-type {\n",
              "        vertical-align: middle;\n",
              "    }\n",
              "\n",
              "    .dataframe tbody tr th {\n",
              "        vertical-align: top;\n",
              "    }\n",
              "\n",
              "    .dataframe thead th {\n",
              "        text-align: right;\n",
              "    }\n",
              "</style>\n",
              "<table border=\"1\" class=\"dataframe\">\n",
              "  <thead>\n",
              "    <tr style=\"text-align: right;\">\n",
              "      <th></th>\n",
              "      <th>sepal length</th>\n",
              "      <th>sepal width</th>\n",
              "      <th>petal length</th>\n",
              "      <th>petal width</th>\n",
              "      <th>species</th>\n",
              "      <th>distance_to_new</th>\n",
              "      <th>dist_to_new</th>\n",
              "      <th>weight</th>\n",
              "    </tr>\n",
              "  </thead>\n",
              "  <tbody>\n",
              "    <tr>\n",
              "      <th>76</th>\n",
              "      <td>6.8</td>\n",
              "      <td>2.8</td>\n",
              "      <td>4.8</td>\n",
              "      <td>1.4</td>\n",
              "      <td>Iris-versicolor</td>\n",
              "      <td>0.591608</td>\n",
              "      <td>0.591608</td>\n",
              "      <td>2.857143</td>\n",
              "    </tr>\n",
              "    <tr>\n",
              "      <th>52</th>\n",
              "      <td>6.9</td>\n",
              "      <td>3.1</td>\n",
              "      <td>4.9</td>\n",
              "      <td>1.5</td>\n",
              "      <td>Iris-versicolor</td>\n",
              "      <td>0.700000</td>\n",
              "      <td>0.700000</td>\n",
              "      <td>2.040816</td>\n",
              "    </tr>\n",
              "    <tr>\n",
              "      <th>77</th>\n",
              "      <td>6.7</td>\n",
              "      <td>3.0</td>\n",
              "      <td>5.0</td>\n",
              "      <td>1.7</td>\n",
              "      <td>Iris-versicolor</td>\n",
              "      <td>0.741620</td>\n",
              "      <td>0.741620</td>\n",
              "      <td>1.818182</td>\n",
              "    </tr>\n",
              "    <tr>\n",
              "      <th>50</th>\n",
              "      <td>7.0</td>\n",
              "      <td>3.2</td>\n",
              "      <td>4.7</td>\n",
              "      <td>1.4</td>\n",
              "      <td>Iris-versicolor</td>\n",
              "      <td>0.836660</td>\n",
              "      <td>0.836660</td>\n",
              "      <td>1.428571</td>\n",
              "    </tr>\n",
              "    <tr>\n",
              "      <th>129</th>\n",
              "      <td>7.2</td>\n",
              "      <td>3.0</td>\n",
              "      <td>5.8</td>\n",
              "      <td>1.6</td>\n",
              "      <td>Iris-virginica</td>\n",
              "      <td>0.866025</td>\n",
              "      <td>0.866025</td>\n",
              "      <td>1.333333</td>\n",
              "    </tr>\n",
              "  </tbody>\n",
              "</table>\n",
              "</div>\n",
              "      <button class=\"colab-df-convert\" onclick=\"convertToInteractive('df-5800379d-20bb-4d2e-bc0f-acd8dfc0cc43')\"\n",
              "              title=\"Convert this dataframe to an interactive table.\"\n",
              "              style=\"display:none;\">\n",
              "        \n",
              "  <svg xmlns=\"http://www.w3.org/2000/svg\" height=\"24px\"viewBox=\"0 0 24 24\"\n",
              "       width=\"24px\">\n",
              "    <path d=\"M0 0h24v24H0V0z\" fill=\"none\"/>\n",
              "    <path d=\"M18.56 5.44l.94 2.06.94-2.06 2.06-.94-2.06-.94-.94-2.06-.94 2.06-2.06.94zm-11 1L8.5 8.5l.94-2.06 2.06-.94-2.06-.94L8.5 2.5l-.94 2.06-2.06.94zm10 10l.94 2.06.94-2.06 2.06-.94-2.06-.94-.94-2.06-.94 2.06-2.06.94z\"/><path d=\"M17.41 7.96l-1.37-1.37c-.4-.4-.92-.59-1.43-.59-.52 0-1.04.2-1.43.59L10.3 9.45l-7.72 7.72c-.78.78-.78 2.05 0 2.83L4 21.41c.39.39.9.59 1.41.59.51 0 1.02-.2 1.41-.59l7.78-7.78 2.81-2.81c.8-.78.8-2.07 0-2.86zM5.41 20L4 18.59l7.72-7.72 1.47 1.35L5.41 20z\"/>\n",
              "  </svg>\n",
              "      </button>\n",
              "      \n",
              "  <style>\n",
              "    .colab-df-container {\n",
              "      display:flex;\n",
              "      flex-wrap:wrap;\n",
              "      gap: 12px;\n",
              "    }\n",
              "\n",
              "    .colab-df-convert {\n",
              "      background-color: #E8F0FE;\n",
              "      border: none;\n",
              "      border-radius: 50%;\n",
              "      cursor: pointer;\n",
              "      display: none;\n",
              "      fill: #1967D2;\n",
              "      height: 32px;\n",
              "      padding: 0 0 0 0;\n",
              "      width: 32px;\n",
              "    }\n",
              "\n",
              "    .colab-df-convert:hover {\n",
              "      background-color: #E2EBFA;\n",
              "      box-shadow: 0px 1px 2px rgba(60, 64, 67, 0.3), 0px 1px 3px 1px rgba(60, 64, 67, 0.15);\n",
              "      fill: #174EA6;\n",
              "    }\n",
              "\n",
              "    [theme=dark] .colab-df-convert {\n",
              "      background-color: #3B4455;\n",
              "      fill: #D2E3FC;\n",
              "    }\n",
              "\n",
              "    [theme=dark] .colab-df-convert:hover {\n",
              "      background-color: #434B5C;\n",
              "      box-shadow: 0px 1px 3px 1px rgba(0, 0, 0, 0.15);\n",
              "      filter: drop-shadow(0px 1px 2px rgba(0, 0, 0, 0.3));\n",
              "      fill: #FFFFFF;\n",
              "    }\n",
              "  </style>\n",
              "\n",
              "      <script>\n",
              "        const buttonEl =\n",
              "          document.querySelector('#df-5800379d-20bb-4d2e-bc0f-acd8dfc0cc43 button.colab-df-convert');\n",
              "        buttonEl.style.display =\n",
              "          google.colab.kernel.accessAllowed ? 'block' : 'none';\n",
              "\n",
              "        async function convertToInteractive(key) {\n",
              "          const element = document.querySelector('#df-5800379d-20bb-4d2e-bc0f-acd8dfc0cc43');\n",
              "          const dataTable =\n",
              "            await google.colab.kernel.invokeFunction('convertToInteractive',\n",
              "                                                     [key], {});\n",
              "          if (!dataTable) return;\n",
              "\n",
              "          const docLinkHtml = 'Like what you see? Visit the ' +\n",
              "            '<a target=\"_blank\" href=https://colab.research.google.com/notebooks/data_table.ipynb>data table notebook</a>'\n",
              "            + ' to learn more about interactive tables.';\n",
              "          element.innerHTML = '';\n",
              "          dataTable['output_type'] = 'display_data';\n",
              "          await google.colab.output.renderOutput(dataTable, element);\n",
              "          const docLink = document.createElement('div');\n",
              "          docLink.innerHTML = docLinkHtml;\n",
              "          element.appendChild(docLink);\n",
              "        }\n",
              "      </script>\n",
              "    </div>\n",
              "  </div>\n",
              "  "
            ]
          },
          "metadata": {},
          "execution_count": 37
        }
      ]
    },
    {
      "cell_type": "code",
      "source": [
        "# K = 5\n",
        "#Not Normalized & unweighted\n",
        "print(\"Not Normalized & unweighted: \", kNN(new_iris, iris, 5))\n",
        "#Not Normalized & Weighted\n",
        "print(\"Not Normalized & weighted: \", w_knn(new_iris, iris, 5))\n",
        "#Normalized & unweighted\n",
        "print(\"Normalized & unweighted: \", kNN(new_iris_norm, iris_norm, 5))\n",
        "#Normalized & Weighted\n",
        "print(\"Normalized & weighted: \", w_knn(new_iris_norm, iris_norm, 5))"
      ],
      "metadata": {
        "colab": {
          "base_uri": "https://localhost:8080/"
        },
        "id": "R2bV4-Ny2Wmr",
        "outputId": "77820eca-f998-4946-b59d-ce44c16e9f0b"
      },
      "execution_count": 43,
      "outputs": [
        {
          "output_type": "stream",
          "name": "stdout",
          "text": [
            "Not Normalized & unweighted:  0    Iris-versicolor\n",
            "dtype: object\n",
            "Not Normalized & weighted:  ('Iris-versicolor', 8.144712430426717)\n",
            "Normalized & unweighted:  0    Iris-versicolor\n",
            "dtype: object\n",
            "Normalized & weighted:  ('Iris-versicolor', 2.9416191698718386)\n"
          ]
        }
      ]
    },
    {
      "cell_type": "markdown",
      "metadata": {
        "id": "FmzzIhvqhka2"
      },
      "source": [
        "# 💬 Discussion Question\n",
        "\n",
        "Should we __always__ normalize our data? Why or why not?\n",
        "\n",
        "When does it make sense to normalize? When might it make more sense not to?"
      ]
    },
    {
      "cell_type": "code",
      "execution_count": null,
      "metadata": {
        "id": "pt4uQLVQhka2"
      },
      "outputs": [],
      "source": []
    }
  ],
  "metadata": {
    "celltoolbar": "Slideshow",
    "kernelspec": {
      "display_name": "Python 3",
      "language": "python",
      "name": "python3"
    },
    "language_info": {
      "codemirror_mode": {
        "name": "ipython",
        "version": 3
      },
      "file_extension": ".py",
      "mimetype": "text/x-python",
      "name": "python",
      "nbconvert_exporter": "python",
      "pygments_lexer": "ipython3",
      "version": "3.8.3"
    },
    "colab": {
      "provenance": [],
      "include_colab_link": true
    }
  },
  "nbformat": 4,
  "nbformat_minor": 0
}